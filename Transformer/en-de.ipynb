{
 "cells": [
  {
   "cell_type": "code",
   "execution_count": 1,
   "metadata": {},
   "outputs": [
    {
     "name": "stderr",
     "output_type": "stream",
     "text": [
      "/Users/tonimo/Documents/Developing/Repos/Deep-Learning/deep-learning-venv/lib/python3.10/site-packages/tqdm/auto.py:22: TqdmWarning: IProgress not found. Please update jupyter and ipywidgets. See https://ipywidgets.readthedocs.io/en/stable/user_install.html\n",
      "  from .autonotebook import tqdm as notebook_tqdm\n"
     ]
    },
    {
     "name": "stdout",
     "output_type": "stream",
     "text": [
      "Using cpu\n"
     ]
    }
   ],
   "source": [
    "import torch\n",
    "import torch.optim as optim\n",
    "import numpy as np\n",
    "from transformer import Transformer\n",
    "from metrics import Evaluator\n",
    "from datasets import load_dataset\n",
    "from utils import *\n",
    "from training import *\n",
    "from tokenizer import *\n",
    "\n",
    "device = \"cuda\" if torch.cuda.is_available() else \"cpu\"\n",
    "print(f\"Using {device}\")"
   ]
  },
  {
   "cell_type": "code",
   "execution_count": 2,
   "metadata": {},
   "outputs": [
    {
     "name": "stderr",
     "output_type": "stream",
     "text": [
      "Found cached dataset opus100 (/Users/tonimo/.cache/huggingface/datasets/opus100/de-en/0.0.0/256f3196b69901fb0c79810ef468e2c4ed84fbd563719920b1ff1fdc750f7704)\n",
      "Found cached dataset opus100 (/Users/tonimo/.cache/huggingface/datasets/opus100/de-en/0.0.0/256f3196b69901fb0c79810ef468e2c4ed84fbd563719920b1ff1fdc750f7704)\n"
     ]
    }
   ],
   "source": [
    "traindict = load_dataset(\"opus100\", \"de-en\", split=\"train\")\n",
    "testdict = load_dataset(\"opus100\", \"de-en\", split=\"test\")"
   ]
  },
  {
   "cell_type": "code",
   "execution_count": 3,
   "metadata": {},
   "outputs": [],
   "source": [
    "train_inputs, train_labels = get_split(traindict, \"en\", \"de\", size=100000)\n",
    "test_inputs, test_labels = get_split(testdict, \"en\", \"de\", size=1000)\n",
    "trainset = Dataset(train_inputs, train_labels)\n",
    "testset = Dataset(test_inputs, test_labels)"
   ]
  },
  {
   "cell_type": "code",
   "execution_count": 4,
   "metadata": {},
   "outputs": [
    {
     "data": {
      "text/html": [
       "<div>\n",
       "<style scoped>\n",
       "    .dataframe tbody tr th:only-of-type {\n",
       "        vertical-align: middle;\n",
       "    }\n",
       "\n",
       "    .dataframe tbody tr th {\n",
       "        vertical-align: top;\n",
       "    }\n",
       "\n",
       "    .dataframe thead th {\n",
       "        text-align: right;\n",
       "    }\n",
       "</style>\n",
       "<table border=\"1\" class=\"dataframe\">\n",
       "  <thead>\n",
       "    <tr style=\"text-align: right;\">\n",
       "      <th></th>\n",
       "      <th>inputs</th>\n",
       "      <th>labels</th>\n",
       "    </tr>\n",
       "  </thead>\n",
       "  <tbody>\n",
       "    <tr>\n",
       "      <th>0</th>\n",
       "      <td>It will have done more harm if Turkey's expect...</td>\n",
       "      <td>- Sicher.</td>\n",
       "    </tr>\n",
       "    <tr>\n",
       "      <th>1</th>\n",
       "      <td>- That's true.</td>\n",
       "      <td>Mindestens 90 %; sekundäre Komponenten 4-6 % G...</td>\n",
       "    </tr>\n",
       "    <tr>\n",
       "      <th>2</th>\n",
       "      <td>Slow, slow, quick, quick.</td>\n",
       "      <td>Nein, ehrlich gesagt finde ich, dass du heraus...</td>\n",
       "    </tr>\n",
       "    <tr>\n",
       "      <th>3</th>\n",
       "      <td>What do you say Marylin?</td>\n",
       "      <td>48:02</td>\n",
       "    </tr>\n",
       "    <tr>\n",
       "      <th>4</th>\n",
       "      <td>We could be thrown anywhere in the galaxy.</td>\n",
       "      <td>Pink für dich, Blau für Luke.</td>\n",
       "    </tr>\n",
       "  </tbody>\n",
       "</table>\n",
       "</div>"
      ],
      "text/plain": [
       "                                              inputs  \\\n",
       "0  It will have done more harm if Turkey's expect...   \n",
       "1                                     - That's true.   \n",
       "2                          Slow, slow, quick, quick.   \n",
       "3                           What do you say Marylin?   \n",
       "4         We could be thrown anywhere in the galaxy.   \n",
       "\n",
       "                                              labels  \n",
       "0                                          - Sicher.  \n",
       "1  Mindestens 90 %; sekundäre Komponenten 4-6 % G...  \n",
       "2  Nein, ehrlich gesagt finde ich, dass du heraus...  \n",
       "3                                              48:02  \n",
       "4                      Pink für dich, Blau für Luke.  "
      ]
     },
     "execution_count": 4,
     "metadata": {},
     "output_type": "execute_result"
    }
   ],
   "source": [
    "trainframe = trainset.dataframe()\n",
    "trainframe.head()"
   ]
  },
  {
   "cell_type": "code",
   "execution_count": 5,
   "metadata": {},
   "outputs": [
    {
     "data": {
      "text/html": [
       "<div>\n",
       "<style scoped>\n",
       "    .dataframe tbody tr th:only-of-type {\n",
       "        vertical-align: middle;\n",
       "    }\n",
       "\n",
       "    .dataframe tbody tr th {\n",
       "        vertical-align: top;\n",
       "    }\n",
       "\n",
       "    .dataframe thead th {\n",
       "        text-align: right;\n",
       "    }\n",
       "</style>\n",
       "<table border=\"1\" class=\"dataframe\">\n",
       "  <thead>\n",
       "    <tr style=\"text-align: right;\">\n",
       "      <th></th>\n",
       "      <th>inputs</th>\n",
       "      <th>labels</th>\n",
       "    </tr>\n",
       "  </thead>\n",
       "  <tbody>\n",
       "    <tr>\n",
       "      <th>0</th>\n",
       "      <td>So I have to withdraw as Bobby's attorney.</td>\n",
       "      <td>moodle:bg-bab: Kalender: Tagesansicht: Freitag...</td>\n",
       "    </tr>\n",
       "    <tr>\n",
       "      <th>1</th>\n",
       "      <td>The more pronounced rate of decline was record...</td>\n",
       "      <td>Inhalt: 88 S., 14 Abb., 6 Taf., 1 Beil.</td>\n",
       "    </tr>\n",
       "    <tr>\n",
       "      <th>2</th>\n",
       "      <td>(iii) The degree of substitution of different ...</td>\n",
       "      <td>\" In den ersten fünf Monaten des Jahres 2011 h...</td>\n",
       "    </tr>\n",
       "    <tr>\n",
       "      <th>3</th>\n",
       "      <td>moodle:bg-bab: Calendar: Day view: Friday, 25 ...</td>\n",
       "      <td>Ich meine, die meisten Leuten sehen eine ander...</td>\n",
       "    </tr>\n",
       "    <tr>\n",
       "      <th>4</th>\n",
       "      <td>Content: 32 S., 17 Abb., 14 Taf.</td>\n",
       "      <td>Die Verfahren auf der Grundlage des RhE Modell...</td>\n",
       "    </tr>\n",
       "  </tbody>\n",
       "</table>\n",
       "</div>"
      ],
      "text/plain": [
       "                                              inputs  \\\n",
       "0         So I have to withdraw as Bobby's attorney.   \n",
       "1  The more pronounced rate of decline was record...   \n",
       "2  (iii) The degree of substitution of different ...   \n",
       "3  moodle:bg-bab: Calendar: Day view: Friday, 25 ...   \n",
       "4                   Content: 32 S., 17 Abb., 14 Taf.   \n",
       "\n",
       "                                              labels  \n",
       "0  moodle:bg-bab: Kalender: Tagesansicht: Freitag...  \n",
       "1            Inhalt: 88 S., 14 Abb., 6 Taf., 1 Beil.  \n",
       "2  \" In den ersten fünf Monaten des Jahres 2011 h...  \n",
       "3  Ich meine, die meisten Leuten sehen eine ander...  \n",
       "4  Die Verfahren auf der Grundlage des RhE Modell...  "
      ]
     },
     "execution_count": 5,
     "metadata": {},
     "output_type": "execute_result"
    }
   ],
   "source": [
    "testframe = testset.dataframe()\n",
    "testframe.head()"
   ]
  },
  {
   "cell_type": "code",
   "execution_count": 6,
   "metadata": {},
   "outputs": [
    {
     "name": "stdout",
     "output_type": "stream",
     "text": [
      "False\n"
     ]
    },
    {
     "data": {
      "text/html": [
       "<div>\n",
       "<style scoped>\n",
       "    .dataframe tbody tr th:only-of-type {\n",
       "        vertical-align: middle;\n",
       "    }\n",
       "\n",
       "    .dataframe tbody tr th {\n",
       "        vertical-align: top;\n",
       "    }\n",
       "\n",
       "    .dataframe thead th {\n",
       "        text-align: right;\n",
       "    }\n",
       "</style>\n",
       "<table border=\"1\" class=\"dataframe\">\n",
       "  <thead>\n",
       "    <tr style=\"text-align: right;\">\n",
       "      <th></th>\n",
       "      <th>inputs</th>\n",
       "      <th>labels</th>\n",
       "    </tr>\n",
       "  </thead>\n",
       "  <tbody>\n",
       "    <tr>\n",
       "      <th>count</th>\n",
       "      <td>100</td>\n",
       "      <td>100</td>\n",
       "    </tr>\n",
       "    <tr>\n",
       "      <th>unique</th>\n",
       "      <td>100</td>\n",
       "      <td>100</td>\n",
       "    </tr>\n",
       "    <tr>\n",
       "      <th>top</th>\n",
       "      <td>It will have done more harm if Turkey's expect...</td>\n",
       "      <td>- Sicher.</td>\n",
       "    </tr>\n",
       "    <tr>\n",
       "      <th>freq</th>\n",
       "      <td>1</td>\n",
       "      <td>1</td>\n",
       "    </tr>\n",
       "  </tbody>\n",
       "</table>\n",
       "</div>"
      ],
      "text/plain": [
       "                                                   inputs     labels\n",
       "count                                                 100        100\n",
       "unique                                                100        100\n",
       "top     It will have done more harm if Turkey's expect...  - Sicher.\n",
       "freq                                                    1          1"
      ]
     },
     "execution_count": 6,
     "metadata": {},
     "output_type": "execute_result"
    }
   ],
   "source": [
    "print(trainframe.isnull().values.any())\n",
    "trainframe.describe()"
   ]
  },
  {
   "cell_type": "code",
   "execution_count": 7,
   "metadata": {},
   "outputs": [
    {
     "name": "stdout",
     "output_type": "stream",
     "text": [
      "False\n"
     ]
    },
    {
     "data": {
      "text/html": [
       "<div>\n",
       "<style scoped>\n",
       "    .dataframe tbody tr th:only-of-type {\n",
       "        vertical-align: middle;\n",
       "    }\n",
       "\n",
       "    .dataframe tbody tr th {\n",
       "        vertical-align: top;\n",
       "    }\n",
       "\n",
       "    .dataframe thead th {\n",
       "        text-align: right;\n",
       "    }\n",
       "</style>\n",
       "<table border=\"1\" class=\"dataframe\">\n",
       "  <thead>\n",
       "    <tr style=\"text-align: right;\">\n",
       "      <th></th>\n",
       "      <th>inputs</th>\n",
       "      <th>labels</th>\n",
       "    </tr>\n",
       "  </thead>\n",
       "  <tbody>\n",
       "    <tr>\n",
       "      <th>count</th>\n",
       "      <td>10</td>\n",
       "      <td>10</td>\n",
       "    </tr>\n",
       "    <tr>\n",
       "      <th>unique</th>\n",
       "      <td>10</td>\n",
       "      <td>10</td>\n",
       "    </tr>\n",
       "    <tr>\n",
       "      <th>top</th>\n",
       "      <td>So I have to withdraw as Bobby's attorney.</td>\n",
       "      <td>moodle:bg-bab: Kalender: Tagesansicht: Freitag...</td>\n",
       "    </tr>\n",
       "    <tr>\n",
       "      <th>freq</th>\n",
       "      <td>1</td>\n",
       "      <td>1</td>\n",
       "    </tr>\n",
       "  </tbody>\n",
       "</table>\n",
       "</div>"
      ],
      "text/plain": [
       "                                            inputs  \\\n",
       "count                                           10   \n",
       "unique                                          10   \n",
       "top     So I have to withdraw as Bobby's attorney.   \n",
       "freq                                             1   \n",
       "\n",
       "                                                   labels  \n",
       "count                                                  10  \n",
       "unique                                                 10  \n",
       "top     moodle:bg-bab: Kalender: Tagesansicht: Freitag...  \n",
       "freq                                                    1  "
      ]
     },
     "execution_count": 7,
     "metadata": {},
     "output_type": "execute_result"
    }
   ],
   "source": [
    "print(testframe.isnull().values.any())\n",
    "testframe.describe()"
   ]
  },
  {
   "cell_type": "code",
   "execution_count": 8,
   "metadata": {},
   "outputs": [
    {
     "data": {
      "text/plain": [
       "[('Thank you for your patience.', 'Weißt du, wer Remy Danton ist?')]"
      ]
     },
     "execution_count": 8,
     "metadata": {},
     "output_type": "execute_result"
    }
   ],
   "source": [
    "trainset.sample()"
   ]
  },
  {
   "cell_type": "code",
   "execution_count": 9,
   "metadata": {},
   "outputs": [
    {
     "data": {
      "text/plain": [
       "[('(iii) The degree of substitution of different factors in pro duction.',\n",
       "  '\" In den ersten fünf Monaten des Jahres 2011 haben sich die Sarden drei Häfen abgewickelt insgesamt 781.193 Passagiere, ein Rückgang von 175.954 Einheiten (-18,4%) gegenüber dem gleichen Zeitraum des Vorjahres. Je ausgeprägter der Rückgang wurde aus dem Hafen von Olbia mit -21,9% verzeichnet, während in Golfo Aranci Verkehr sank um 15,4% und 9,8% von Porto Torres.')]"
      ]
     },
     "execution_count": 9,
     "metadata": {},
     "output_type": "execute_result"
    }
   ],
   "source": [
    "testset.sample()"
   ]
  },
  {
   "cell_type": "code",
   "execution_count": 10,
   "metadata": {},
   "outputs": [],
   "source": [
    "corpus_en = trainset.corpus(data=\"inputs\") + testset.corpus(data=\"inputs\")\n",
    "corpus_de = trainset.corpus(data=\"labels\") + testset.corpus(data=\"labels\")\n",
    "tokenizer_en = Nerdimizer()\n",
    "tokenizer_de = Nerdimizer()\n",
    "tokenizer_en.train(corpus_en, size=25000)\n",
    "tokenizer_de.train(corpus_de, size=25000)\n",
    "translator = Translator(tokenizer_en, tokenizer_de)"
   ]
  },
  {
   "cell_type": "code",
   "execution_count": 11,
   "metadata": {},
   "outputs": [
    {
     "name": "stdout",
     "output_type": "stream",
     "text": [
      "Number of input tokens: 845\n",
      "Number of output tokens: 1019\n"
     ]
    }
   ],
   "source": [
    "en_vocab, de_vocab = translator.vocab_size()\n",
    "maxlen_train = trainset.maxlen(translator)\n",
    "maxlen_test = testset.maxlen(translator)\n",
    "maxlen = min(maxlen_train, maxlen_test, 256)\n",
    "start, end, pad = tokenizer_en[\"[S]\"], tokenizer_en[\"[E]\"], tokenizer_en[\"[P]\"]\n",
    "print(f\"Number of input tokens: {len(tokenizer_en)}\\nNumber of output tokens: {len(tokenizer_de)}\")"
   ]
  },
  {
   "cell_type": "code",
   "execution_count": 12,
   "metadata": {},
   "outputs": [
    {
     "name": "stdout",
     "output_type": "stream",
     "text": [
      "Maxlen: 10\n"
     ]
    }
   ],
   "source": [
    "translator.padon(maxlen, end=True, pad_id=pad)\n",
    "translator.truncon(maxlen, end=True)\n",
    "print(f\"Maxlen: {maxlen}\")"
   ]
  },
  {
   "cell_type": "code",
   "execution_count": 13,
   "metadata": {},
   "outputs": [
    {
     "name": "stdout",
     "output_type": "stream",
     "text": [
      "Number of Trainable Paramaters: 45065216\n",
      "Size of Model: 171.9MB\n"
     ]
    }
   ],
   "source": [
    "model = Transformer(en_vocab, de_vocab, maxlen, pad_id=pad, dm=512, nhead=8, layers=6, dff=2048)\n",
    "optimizer = optim.Adam(model.parameters(), lr=1e-5, betas=(0.9, 0.98), eps=10e-9)\n",
    "scheduler = optim.lr_scheduler.ReduceLROnPlateau(optimizer, factor=0.9, patience=10)\n",
    "evaluator = Evaluator(testset, translator, \"[S]\", \"[E]\", maxlen, sample=50, ngrams=4, threshold=25, \n",
    "                    mode=\"geometric\", device=device)\n",
    "clock = Clock()\n",
    "checkpoint = Checkpoint(model, optimizer, scheduler, evaluator, clock, epochs=100, \n",
    "                    path=\"english-german\", overwrite=True)\n",
    "model.to(device)\n",
    "print(f\"Number of Trainable Paramaters: {parameter_count(model)}\\nSize of Model: {model_size(model):.1f}MB\")"
   ]
  },
  {
   "cell_type": "code",
   "execution_count": 14,
   "metadata": {},
   "outputs": [],
   "source": [
    "tokenized_trainset = trainset.tokenized(translator, model=True)\n",
    "dataloader = tokenized_trainset.dataloader(batch_size=128, drop_last=False)"
   ]
  },
  {
   "cell_type": "code",
   "execution_count": 15,
   "metadata": {},
   "outputs": [
    {
     "name": "stdout",
     "output_type": "stream",
     "text": [
      "Training Started\n",
      "-------------------------------------------------------------------------------\n",
      "Epoch 1 Complete | Epoch Duration: 00:00:05 | Elapsed Training Time: 00:00:05 |\n",
      "Metrics | Epoch Loss: 6.4136 | BLEU Score: 0.0 | \n",
      "Other Info | Scheduler Warmup Step: True | Checkpoint Saved: False |\n",
      "-------------------------------------------------------------------------------\n",
      "Epoch 2 Complete | Epoch Duration: 00:00:06 | Elapsed Training Time: 00:00:11 |\n",
      "Metrics | Epoch Loss: 5.8127 | BLEU Score: 0.0 | \n",
      "Other Info | Scheduler Warmup Step: True | Checkpoint Saved: False |\n",
      "-------------------------------------------------------------------------------\n",
      "Epoch 3 Complete | Epoch Duration: 00:00:04 | Elapsed Training Time: 00:00:14 |\n",
      "Metrics | Epoch Loss: 5.5664 | BLEU Score: 0.0 | \n",
      "Other Info | Scheduler Warmup Step: True | Checkpoint Saved: False |\n",
      "-------------------------------------------------------------------------------\n",
      "Epoch 4 Complete | Epoch Duration: 00:00:04 | Elapsed Training Time: 00:00:18 |\n",
      "Metrics | Epoch Loss: 5.4468 | BLEU Score: 0.0 | \n",
      "Other Info | Scheduler Warmup Step: True | Checkpoint Saved: False |\n",
      "-------------------------------------------------------------------------------\n",
      "Epoch 5 Complete | Epoch Duration: 00:00:04 | Elapsed Training Time: 00:00:22 |\n",
      "Metrics | Epoch Loss: 5.3546 | BLEU Score: 0.0 | \n",
      "Other Info | Scheduler Warmup Step: True | Checkpoint Saved: False |\n",
      "-------------------------------------------------------------------------------\n",
      "Epoch 6 Complete | Epoch Duration: 00:00:08 | Elapsed Training Time: 00:00:30 |\n",
      "Metrics | Epoch Loss: 5.2967 | BLEU Score: 0.0 | \n",
      "Other Info | Scheduler Warmup Step: True | Checkpoint Saved: False |\n",
      "-------------------------------------------------------------------------------\n",
      "Epoch 7 Complete | Epoch Duration: 00:00:08 | Elapsed Training Time: 00:00:38 |\n",
      "Metrics | Epoch Loss: 5.2213 | BLEU Score: 0.0 | \n",
      "Other Info | Scheduler Warmup Step: True | Checkpoint Saved: False |\n"
     ]
    }
   ],
   "source": [
    "train(dataloader, model, optimizer, scheduler, evaluator, checkpoint, clock,\n",
    "    epochs=1000, warmups=100, verbose=True, device=device)"
   ]
  }
 ],
 "metadata": {
  "kernelspec": {
   "display_name": "deep-learning-venv",
   "language": "python",
   "name": "python3"
  },
  "language_info": {
   "codemirror_mode": {
    "name": "ipython",
    "version": 3
   },
   "file_extension": ".py",
   "mimetype": "text/x-python",
   "name": "python",
   "nbconvert_exporter": "python",
   "pygments_lexer": "ipython3",
   "version": "3.10.1"
  },
  "orig_nbformat": 4,
  "vscode": {
   "interpreter": {
    "hash": "cdd6e1c2b78b644f0d9d9d71785509219b94538d762b98250c0a1db53509cbf1"
   }
  }
 },
 "nbformat": 4,
 "nbformat_minor": 2
}
