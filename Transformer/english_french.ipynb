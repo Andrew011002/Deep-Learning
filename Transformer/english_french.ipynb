{
 "cells": [
  {
   "cell_type": "code",
   "execution_count": 1,
   "metadata": {},
   "outputs": [
    {
     "name": "stderr",
     "output_type": "stream",
     "text": [
      "/Users/tonimo/Documents/Developing/Repos/Deep-Learning/deep-learning-venv/lib/python3.10/site-packages/tqdm/auto.py:22: TqdmWarning: IProgress not found. Please update jupyter and ipywidgets. See https://ipywidgets.readthedocs.io/en/stable/user_install.html\n",
      "  from .autonotebook import tqdm as notebook_tqdm\n"
     ]
    },
    {
     "name": "stdout",
     "output_type": "stream",
     "text": [
      "Using cpu\n"
     ]
    }
   ],
   "source": [
    "import torch\n",
    "import torch.optim as optim\n",
    "import numpy as np\n",
    "from transformer import Transformer\n",
    "from metrics import Evaluator\n",
    "from datasets import load_dataset\n",
    "from utils import *\n",
    "from training import *\n",
    "from tokenizer import *\n",
    "\n",
    "device = \"cuda\" if torch.cuda.is_available() else \"cpu\"\n",
    "print(f\"Using {device}\")"
   ]
  },
  {
   "cell_type": "code",
   "execution_count": 2,
   "metadata": {},
   "outputs": [
    {
     "name": "stderr",
     "output_type": "stream",
     "text": [
      "Found cached dataset opus100 (/Users/tonimo/.cache/huggingface/datasets/opus100/de-en/0.0.0/256f3196b69901fb0c79810ef468e2c4ed84fbd563719920b1ff1fdc750f7704)\n",
      "Found cached dataset opus100 (/Users/tonimo/.cache/huggingface/datasets/opus100/de-en/0.0.0/256f3196b69901fb0c79810ef468e2c4ed84fbd563719920b1ff1fdc750f7704)\n"
     ]
    }
   ],
   "source": [
    "traindict = load_dataset(\"opus100\", \"de-en\", split=\"train\")\n",
    "testdict = load_dataset(\"opus100\", \"de-en\", split=\"test\")"
   ]
  },
  {
   "cell_type": "code",
   "execution_count": 3,
   "metadata": {},
   "outputs": [],
   "source": [
    "train_inputs, train_labels = get_split(traindict, \"en\", \"de\", size=100)\n",
    "test_inputs, test_labels = get_split(testdict, \"en\", \"de\", size=10)\n",
    "trainset = Dataset(train_inputs, train_labels)\n",
    "testset = Dataset(test_inputs, test_labels)"
   ]
  },
  {
   "cell_type": "code",
   "execution_count": 4,
   "metadata": {},
   "outputs": [
    {
     "data": {
      "text/html": [
       "<div>\n",
       "<style scoped>\n",
       "    .dataframe tbody tr th:only-of-type {\n",
       "        vertical-align: middle;\n",
       "    }\n",
       "\n",
       "    .dataframe tbody tr th {\n",
       "        vertical-align: top;\n",
       "    }\n",
       "\n",
       "    .dataframe thead th {\n",
       "        text-align: right;\n",
       "    }\n",
       "</style>\n",
       "<table border=\"1\" class=\"dataframe\">\n",
       "  <thead>\n",
       "    <tr style=\"text-align: right;\">\n",
       "      <th></th>\n",
       "      <th>inputs</th>\n",
       "      <th>labels</th>\n",
       "    </tr>\n",
       "  </thead>\n",
       "  <tbody>\n",
       "    <tr>\n",
       "      <th>0</th>\n",
       "      <td>It's greed that it's gonna be the death of you...</td>\n",
       "      <td>Deine Habgier wird noch dein Tod sein.</td>\n",
       "    </tr>\n",
       "    <tr>\n",
       "      <th>1</th>\n",
       "      <td>Vega.</td>\n",
       "      <td>- Vega.</td>\n",
       "    </tr>\n",
       "    <tr>\n",
       "      <th>2</th>\n",
       "      <td>Just say when.</td>\n",
       "      <td>Sagen Sie einfach stopp.</td>\n",
       "    </tr>\n",
       "    <tr>\n",
       "      <th>3</th>\n",
       "      <td>- Wait.</td>\n",
       "      <td>- Warte.</td>\n",
       "    </tr>\n",
       "    <tr>\n",
       "      <th>4</th>\n",
       "      <td>I don't wanna be here.</td>\n",
       "      <td>Ich will nicht hier sein.</td>\n",
       "    </tr>\n",
       "  </tbody>\n",
       "</table>\n",
       "</div>"
      ],
      "text/plain": [
       "                                              inputs  \\\n",
       "0  It's greed that it's gonna be the death of you...   \n",
       "1                                              Vega.   \n",
       "2                                     Just say when.   \n",
       "3                                            - Wait.   \n",
       "4                             I don't wanna be here.   \n",
       "\n",
       "                                   labels  \n",
       "0  Deine Habgier wird noch dein Tod sein.  \n",
       "1                                 - Vega.  \n",
       "2                Sagen Sie einfach stopp.  \n",
       "3                                - Warte.  \n",
       "4               Ich will nicht hier sein.  "
      ]
     },
     "execution_count": 4,
     "metadata": {},
     "output_type": "execute_result"
    }
   ],
   "source": [
    "trainframe = trainset.dataframe()\n",
    "trainframe.head()"
   ]
  },
  {
   "cell_type": "code",
   "execution_count": 5,
   "metadata": {},
   "outputs": [
    {
     "data": {
      "text/html": [
       "<div>\n",
       "<style scoped>\n",
       "    .dataframe tbody tr th:only-of-type {\n",
       "        vertical-align: middle;\n",
       "    }\n",
       "\n",
       "    .dataframe tbody tr th {\n",
       "        vertical-align: top;\n",
       "    }\n",
       "\n",
       "    .dataframe thead th {\n",
       "        text-align: right;\n",
       "    }\n",
       "</style>\n",
       "<table border=\"1\" class=\"dataframe\">\n",
       "  <thead>\n",
       "    <tr style=\"text-align: right;\">\n",
       "      <th></th>\n",
       "      <th>inputs</th>\n",
       "      <th>labels</th>\n",
       "    </tr>\n",
       "  </thead>\n",
       "  <tbody>\n",
       "    <tr>\n",
       "      <th>0</th>\n",
       "      <td>By clicking on 'Save profile', you the user ag...</td>\n",
       "      <td>Die Nutzungsbedingungen werden durch das Klick...</td>\n",
       "    </tr>\n",
       "    <tr>\n",
       "      <th>1</th>\n",
       "      <td>I wanted to show you something first.</td>\n",
       "      <td>Ich wollte dir erst noch etwas zeigen.</td>\n",
       "    </tr>\n",
       "    <tr>\n",
       "      <th>2</th>\n",
       "      <td>You have suffered because of Shinkichi.</td>\n",
       "      <td>Du musstest wegen Shinkichi leiden.</td>\n",
       "    </tr>\n",
       "    <tr>\n",
       "      <th>3</th>\n",
       "      <td>moodle:bg-bab: Calendar: Day view: Friday, 25 ...</td>\n",
       "      <td>moodle:bg-bab: Kalender: Tagesansicht: Freitag...</td>\n",
       "    </tr>\n",
       "    <tr>\n",
       "      <th>4</th>\n",
       "      <td>I mean, most people, they see another person w...</td>\n",
       "      <td>Ich meine, die meisten Leuten sehen eine ander...</td>\n",
       "    </tr>\n",
       "  </tbody>\n",
       "</table>\n",
       "</div>"
      ],
      "text/plain": [
       "                                              inputs  \\\n",
       "0  By clicking on 'Save profile', you the user ag...   \n",
       "1              I wanted to show you something first.   \n",
       "2            You have suffered because of Shinkichi.   \n",
       "3  moodle:bg-bab: Calendar: Day view: Friday, 25 ...   \n",
       "4  I mean, most people, they see another person w...   \n",
       "\n",
       "                                              labels  \n",
       "0  Die Nutzungsbedingungen werden durch das Klick...  \n",
       "1             Ich wollte dir erst noch etwas zeigen.  \n",
       "2                Du musstest wegen Shinkichi leiden.  \n",
       "3  moodle:bg-bab: Kalender: Tagesansicht: Freitag...  \n",
       "4  Ich meine, die meisten Leuten sehen eine ander...  "
      ]
     },
     "execution_count": 5,
     "metadata": {},
     "output_type": "execute_result"
    }
   ],
   "source": [
    "testframe = testset.dataframe()\n",
    "testframe.head()"
   ]
  },
  {
   "cell_type": "code",
   "execution_count": 6,
   "metadata": {},
   "outputs": [
    {
     "name": "stdout",
     "output_type": "stream",
     "text": [
      "False\n"
     ]
    },
    {
     "data": {
      "text/html": [
       "<div>\n",
       "<style scoped>\n",
       "    .dataframe tbody tr th:only-of-type {\n",
       "        vertical-align: middle;\n",
       "    }\n",
       "\n",
       "    .dataframe tbody tr th {\n",
       "        vertical-align: top;\n",
       "    }\n",
       "\n",
       "    .dataframe thead th {\n",
       "        text-align: right;\n",
       "    }\n",
       "</style>\n",
       "<table border=\"1\" class=\"dataframe\">\n",
       "  <thead>\n",
       "    <tr style=\"text-align: right;\">\n",
       "      <th></th>\n",
       "      <th>inputs</th>\n",
       "      <th>labels</th>\n",
       "    </tr>\n",
       "  </thead>\n",
       "  <tbody>\n",
       "    <tr>\n",
       "      <th>count</th>\n",
       "      <td>100</td>\n",
       "      <td>100</td>\n",
       "    </tr>\n",
       "    <tr>\n",
       "      <th>unique</th>\n",
       "      <td>100</td>\n",
       "      <td>100</td>\n",
       "    </tr>\n",
       "    <tr>\n",
       "      <th>top</th>\n",
       "      <td>It's greed that it's gonna be the death of you...</td>\n",
       "      <td>Deine Habgier wird noch dein Tod sein.</td>\n",
       "    </tr>\n",
       "    <tr>\n",
       "      <th>freq</th>\n",
       "      <td>1</td>\n",
       "      <td>1</td>\n",
       "    </tr>\n",
       "  </tbody>\n",
       "</table>\n",
       "</div>"
      ],
      "text/plain": [
       "                                                   inputs  \\\n",
       "count                                                 100   \n",
       "unique                                                100   \n",
       "top     It's greed that it's gonna be the death of you...   \n",
       "freq                                                    1   \n",
       "\n",
       "                                        labels  \n",
       "count                                      100  \n",
       "unique                                     100  \n",
       "top     Deine Habgier wird noch dein Tod sein.  \n",
       "freq                                         1  "
      ]
     },
     "execution_count": 6,
     "metadata": {},
     "output_type": "execute_result"
    }
   ],
   "source": [
    "print(trainframe.isnull().values.any())\n",
    "trainframe.describe()"
   ]
  },
  {
   "cell_type": "code",
   "execution_count": 7,
   "metadata": {},
   "outputs": [
    {
     "name": "stdout",
     "output_type": "stream",
     "text": [
      "False\n"
     ]
    },
    {
     "data": {
      "text/html": [
       "<div>\n",
       "<style scoped>\n",
       "    .dataframe tbody tr th:only-of-type {\n",
       "        vertical-align: middle;\n",
       "    }\n",
       "\n",
       "    .dataframe tbody tr th {\n",
       "        vertical-align: top;\n",
       "    }\n",
       "\n",
       "    .dataframe thead th {\n",
       "        text-align: right;\n",
       "    }\n",
       "</style>\n",
       "<table border=\"1\" class=\"dataframe\">\n",
       "  <thead>\n",
       "    <tr style=\"text-align: right;\">\n",
       "      <th></th>\n",
       "      <th>inputs</th>\n",
       "      <th>labels</th>\n",
       "    </tr>\n",
       "  </thead>\n",
       "  <tbody>\n",
       "    <tr>\n",
       "      <th>count</th>\n",
       "      <td>10</td>\n",
       "      <td>10</td>\n",
       "    </tr>\n",
       "    <tr>\n",
       "      <th>unique</th>\n",
       "      <td>10</td>\n",
       "      <td>10</td>\n",
       "    </tr>\n",
       "    <tr>\n",
       "      <th>top</th>\n",
       "      <td>By clicking on 'Save profile', you the user ag...</td>\n",
       "      <td>Die Nutzungsbedingungen werden durch das Klick...</td>\n",
       "    </tr>\n",
       "    <tr>\n",
       "      <th>freq</th>\n",
       "      <td>1</td>\n",
       "      <td>1</td>\n",
       "    </tr>\n",
       "  </tbody>\n",
       "</table>\n",
       "</div>"
      ],
      "text/plain": [
       "                                                   inputs  \\\n",
       "count                                                  10   \n",
       "unique                                                 10   \n",
       "top     By clicking on 'Save profile', you the user ag...   \n",
       "freq                                                    1   \n",
       "\n",
       "                                                   labels  \n",
       "count                                                  10  \n",
       "unique                                                 10  \n",
       "top     Die Nutzungsbedingungen werden durch das Klick...  \n",
       "freq                                                    1  "
      ]
     },
     "execution_count": 7,
     "metadata": {},
     "output_type": "execute_result"
    }
   ],
   "source": [
    "print(testframe.isnull().values.any())\n",
    "testframe.describe()"
   ]
  },
  {
   "cell_type": "code",
   "execution_count": 8,
   "metadata": {},
   "outputs": [
    {
     "data": {
      "text/plain": [
       "[('2009-06-10, 05:45 PM #1', '2011-02-05, 06:02 PM #1')]"
      ]
     },
     "execution_count": 8,
     "metadata": {},
     "output_type": "execute_result"
    }
   ],
   "source": [
    "trainset.sample()"
   ]
  },
  {
   "cell_type": "code",
   "execution_count": 9,
   "metadata": {},
   "outputs": [
    {
     "data": {
      "text/plain": [
       "[(\"So I have to withdraw as Bobby's attorney.\",\n",
       "  'Aus diesem Grund muss ich das Mandat für Bobby niederlegen.')]"
      ]
     },
     "execution_count": 9,
     "metadata": {},
     "output_type": "execute_result"
    }
   ],
   "source": [
    "testset.sample()"
   ]
  },
  {
   "cell_type": "code",
   "execution_count": 10,
   "metadata": {},
   "outputs": [],
   "source": [
    "corpus_en = trainset.corpus(split=0) + testset.corpus(split=0)\n",
    "corpus_de = trainset.corpus(split=1) + testset.corpus(split=1)\n",
    "tokenizer_en = Nerdimizer()\n",
    "tokenizer_de = Nerdimizer()\n",
    "tokenizer_en.train(corpus_en, size=50000)\n",
    "tokenizer_de.train(corpus_de, size=50000)"
   ]
  },
  {
   "cell_type": "code",
   "execution_count": 11,
   "metadata": {},
   "outputs": [
    {
     "name": "stdout",
     "output_type": "stream",
     "text": [
      "Number of input tokens: 860\n",
      "Number of output tokens: 1066\n"
     ]
    }
   ],
   "source": [
    "en_vocab = len(tokenizer_de)\n",
    "de_vocab = len(tokenizer_de)\n",
    "maxlen_train = trainset.maxlen(tokenizer_en, tokenizer_de)\n",
    "maxlen_test = testset.maxlen(tokenizer_en, tokenizer_de)\n",
    "maxlen = min(maxlen_train, maxlen_test, 200)\n",
    "start, end, pad = tokenizer_en[\"[S]\"], tokenizer_en[\"[E]\"], tokenizer_en[\"[P]\"]\n",
    "print(f\"Number of input tokens: {len(tokenizer_en)}\\nNumber of output tokens: {len(tokenizer_de)}\")"
   ]
  },
  {
   "cell_type": "code",
   "execution_count": 12,
   "metadata": {},
   "outputs": [
    {
     "name": "stdout",
     "output_type": "stream",
     "text": [
      "Maxlen: 46\n"
     ]
    }
   ],
   "source": [
    "tokenizer_en.padon(maxlen, pad_id=pad, end=True)\n",
    "tokenizer_en.truncon(maxlen, end=True)\n",
    "tokenizer_de.padon(maxlen, pad_id=pad, end=True)\n",
    "tokenizer_de.truncon(maxlen, end=True)\n",
    "print(f\"Maxlen: {maxlen}\")"
   ]
  },
  {
   "cell_type": "code",
   "execution_count": 13,
   "metadata": {},
   "outputs": [],
   "source": [
    "tokenized_trainset = trainset.tokenized(tokenizer_en, tokenizer_de, model=True)\n",
    "dataloader = tokenized_trainset.dataloader(batch_size=32, drop_last=False)"
   ]
  },
  {
   "cell_type": "code",
   "execution_count": 14,
   "metadata": {},
   "outputs": [],
   "source": [
    "model = Transformer(en_vocab, de_vocab, maxlen, pad_id=pad, dm=256, nhead=8, layers=3, dff=1024)\n",
    "optimizer = optim.Adam(model.parameters(), lr=1e-5, betas=(0.9, 0.98), eps=10e-9)\n",
    "scheduler = optim.lr_scheduler.ReduceLROnPlateau(optimizer, factor=0.9, patience=10)\n",
    "evaluator = Evaluator(testset, tokenizer_en, tokenizer_de, start, end, maxlen, sample=10, ngrams=4, threshold=20, \n",
    "                    mode=\"geometric\", device=device)\n",
    "checkpoint = Checkpoint(model, optimizer, scheduler, evaluator, epochs=3, \n",
    "                    path=\"checkpoints/english-german\", overwrite=False, verbose=True)\n",
    "clock = Clock()\n",
    "model.to(device);"
   ]
  },
  {
   "cell_type": "code",
   "execution_count": 15,
   "metadata": {},
   "outputs": [
    {
     "name": "stdout",
     "output_type": "stream",
     "text": [
      "Training Started\n",
      "Epoch 1 Complete | Epoch Duration: 00:00:09 | Elapsed Time: 00:00:09 |\n",
      "Metrics | Epoch Loss: 7.0239 | BLEU Score: 0.0 | \n",
      "Other Info | Scheduler Warmup Step: True | Checkpoint Saved: False |\n",
      "Epoch 2 Complete | Epoch Duration: 00:00:07 | Elapsed Time: 00:00:26 |\n",
      "Metrics | Epoch Loss: 6.8474 | BLEU Score: 0.0 | \n",
      "Other Info | Scheduler Warmup Step: True | Checkpoint Saved: False |\n",
      "Checkpoint saved\n",
      "Epoch 3 Complete | Epoch Duration: 00:00:02 | Elapsed Time: 00:00:44 |\n",
      "Metrics | Epoch Loss: 6.6631 | BLEU Score: 0.0 | \n",
      "Other Info | Scheduler Warmup Step: True | Checkpoint Saved: True |\n",
      "Epoch 4 Complete | Epoch Duration: 00:00:02 | Elapsed Time: 00:01:05 |\n",
      "Metrics | Epoch Loss: 6.5241 | BLEU Score: 0.0 | \n",
      "Other Info | Scheduler Warmup Step: True | Checkpoint Saved: False |\n",
      "Epoch 5 Complete | Epoch Duration: 00:00:02 | Elapsed Time: 00:01:27 |\n",
      "Metrics | Epoch Loss: 6.4400 | BLEU Score: 0.0 | \n",
      "Other Info | Scheduler Warmup Step: True | Checkpoint Saved: False |\n",
      "Checkpoint saved\n",
      "Epoch 6 Complete | Epoch Duration: 00:00:02 | Elapsed Time: 00:01:53 |\n",
      "Metrics | Epoch Loss: 6.3265 | BLEU Score: 0.0 | \n",
      "Other Info | Scheduler Warmup Step: True | Checkpoint Saved: True |\n",
      "Epoch 7 Complete | Epoch Duration: 00:00:02 | Elapsed Time: 00:02:20 |\n",
      "Metrics | Epoch Loss: 6.2517 | BLEU Score: 0.0 | \n",
      "Other Info | Scheduler Warmup Step: True | Checkpoint Saved: False |\n",
      "Epoch 8 Complete | Epoch Duration: 00:00:02 | Elapsed Time: 00:02:49 |\n",
      "Metrics | Epoch Loss: 6.1700 | BLEU Score: 0.0 | \n",
      "Other Info | Scheduler Warmup Step: True | Checkpoint Saved: False |\n",
      "Checkpoint saved\n",
      "Epoch 9 Complete | Epoch Duration: 00:00:02 | Elapsed Time: 00:03:21 |\n",
      "Metrics | Epoch Loss: 6.1034 | BLEU Score: 0.0 | \n",
      "Other Info | Scheduler Warmup Step: True | Checkpoint Saved: True |\n",
      "Epoch 10 Complete | Epoch Duration: 00:00:02 | Elapsed Time: 00:03:54 |\n",
      "Metrics | Epoch Loss: 6.0480 | BLEU Score: 0.0 | \n",
      "Other Info | Scheduler Warmup Step: True | Checkpoint Saved: False |\n",
      "Epoch 11 Complete | Epoch Duration: 00:00:02 | Elapsed Time: 00:04:30 |\n",
      "Metrics | Epoch Loss: 6.0213 | BLEU Score: 0.0 | \n",
      "Other Info | Scheduler Warmup Step: True | Checkpoint Saved: False |\n",
      "Checkpoint saved\n",
      "Epoch 12 Complete | Epoch Duration: 00:00:02 | Elapsed Time: 00:05:08 |\n",
      "Metrics | Epoch Loss: 5.9994 | BLEU Score: 0.0 | \n",
      "Other Info | Scheduler Warmup Step: True | Checkpoint Saved: True |\n",
      "Epoch 13 Complete | Epoch Duration: 00:00:02 | Elapsed Time: 00:05:48 |\n",
      "Metrics | Epoch Loss: 5.9378 | BLEU Score: 0.0 | \n",
      "Other Info | Scheduler Warmup Step: True | Checkpoint Saved: False |\n",
      "Epoch 14 Complete | Epoch Duration: 00:00:02 | Elapsed Time: 00:06:30 |\n",
      "Metrics | Epoch Loss: 5.9134 | BLEU Score: 0.0 | \n",
      "Other Info | Scheduler Warmup Step: True | Checkpoint Saved: False |\n",
      "Checkpoint saved\n",
      "Epoch 15 Complete | Epoch Duration: 00:00:03 | Elapsed Time: 00:07:15 |\n",
      "Metrics | Epoch Loss: 5.8936 | BLEU Score: 0.0 | \n",
      "Other Info | Scheduler Warmup Step: True | Checkpoint Saved: True |\n",
      "Epoch 16 Complete | Epoch Duration: 00:00:02 | Elapsed Time: 00:08:02 |\n",
      "Metrics | Epoch Loss: 5.8712 | BLEU Score: 0.0 | \n",
      "Other Info | Scheduler Warmup Step: True | Checkpoint Saved: False |\n",
      "Epoch 17 Complete | Epoch Duration: 00:00:03 | Elapsed Time: 00:08:52 |\n",
      "Metrics | Epoch Loss: 5.8407 | BLEU Score: 0.0 | \n",
      "Other Info | Scheduler Warmup Step: True | Checkpoint Saved: False |\n",
      "Checkpoint saved\n",
      "Epoch 18 Complete | Epoch Duration: 00:00:03 | Elapsed Time: 00:09:44 |\n",
      "Metrics | Epoch Loss: 5.8410 | BLEU Score: 0.0 | \n",
      "Other Info | Scheduler Warmup Step: True | Checkpoint Saved: True |\n",
      "Epoch 19 Complete | Epoch Duration: 00:00:03 | Elapsed Time: 00:10:39 |\n",
      "Metrics | Epoch Loss: 5.8058 | BLEU Score: 0.0 | \n",
      "Other Info | Scheduler Warmup Step: True | Checkpoint Saved: False |\n",
      "Epoch 20 Complete | Epoch Duration: 00:00:02 | Elapsed Time: 00:11:36 |\n",
      "Metrics | Epoch Loss: 5.7705 | BLEU Score: 0.0 | \n",
      "Other Info | Scheduler Warmup Step: True | Checkpoint Saved: False |\n",
      "Checkpoint saved\n",
      "Epoch 21 Complete | Epoch Duration: 00:00:02 | Elapsed Time: 00:12:36 |\n",
      "Metrics | Epoch Loss: 5.7586 | BLEU Score: 0.0 | \n",
      "Other Info | Scheduler Warmup Step: True | Checkpoint Saved: True |\n",
      "Epoch 22 Complete | Epoch Duration: 00:00:02 | Elapsed Time: 00:13:37 |\n",
      "Metrics | Epoch Loss: 5.7224 | BLEU Score: 0.0 | \n",
      "Other Info | Scheduler Warmup Step: True | Checkpoint Saved: False |\n",
      "Epoch 23 Complete | Epoch Duration: 00:00:02 | Elapsed Time: 00:14:42 |\n",
      "Metrics | Epoch Loss: 5.7289 | BLEU Score: 0.0 | \n",
      "Other Info | Scheduler Warmup Step: True | Checkpoint Saved: False |\n",
      "Checkpoint saved\n",
      "Epoch 24 Complete | Epoch Duration: 00:00:03 | Elapsed Time: 00:15:48 |\n",
      "Metrics | Epoch Loss: 5.7113 | BLEU Score: 0.0 | \n",
      "Other Info | Scheduler Warmup Step: True | Checkpoint Saved: True |\n",
      "Epoch 25 Complete | Epoch Duration: 00:00:02 | Elapsed Time: 00:16:58 |\n",
      "Metrics | Epoch Loss: 5.7018 | BLEU Score: 0.0 | \n",
      "Other Info | Scheduler Warmup Step: True | Checkpoint Saved: False |\n",
      "Epoch 26 Complete | Epoch Duration: 00:00:02 | Elapsed Time: 00:18:09 |\n",
      "Metrics | Epoch Loss: 5.6706 | BLEU Score: 0.0 | \n",
      "Other Info | Scheduler Warmup Step: True | Checkpoint Saved: False |\n"
     ]
    },
    {
     "ename": "KeyboardInterrupt",
     "evalue": "",
     "output_type": "error",
     "traceback": [
      "\u001b[0;31m---------------------------------------------------------------------------\u001b[0m",
      "\u001b[0;31mKeyboardInterrupt\u001b[0m                         Traceback (most recent call last)",
      "Cell \u001b[0;32mIn[15], line 1\u001b[0m\n\u001b[0;32m----> 1\u001b[0m train(dataloader, model, optimizer, scheduler, evaluator, checkpoint, clock,\n\u001b[1;32m      2\u001b[0m     epochs\u001b[39m=\u001b[39;49m\u001b[39m1000\u001b[39;49m, warmups\u001b[39m=\u001b[39;49m\u001b[39m100\u001b[39;49m, verbose\u001b[39m=\u001b[39;49m\u001b[39mTrue\u001b[39;49;00m, device\u001b[39m=\u001b[39;49mdevice)\n",
      "File \u001b[0;32m~/Documents/Developing/Repos/Deep-Learning/Transformer/training.py:45\u001b[0m, in \u001b[0;36mtrain\u001b[0;34m(dataloader, model, optimizer, scheduler, evaluator, checkpoint, clock, epochs, warmups, verbose, device)\u001b[0m\n\u001b[1;32m     43\u001b[0m loss \u001b[39m=\u001b[39m loss_fn(pred, out)\n\u001b[1;32m     44\u001b[0m loss\u001b[39m.\u001b[39mbackward()\n\u001b[0;32m---> 45\u001b[0m optimizer\u001b[39m.\u001b[39;49mstep()\n\u001b[1;32m     46\u001b[0m \u001b[39m# tally loss over time\u001b[39;00m\n\u001b[1;32m     47\u001b[0m accum_loss \u001b[39m+\u001b[39m\u001b[39m=\u001b[39m loss\u001b[39m.\u001b[39mitem()\n",
      "File \u001b[0;32m~/Documents/Developing/Repos/Deep-Learning/deep-learning-venv/lib/python3.10/site-packages/torch/optim/optimizer.py:140\u001b[0m, in \u001b[0;36mOptimizer._hook_for_profile.<locals>.profile_hook_step.<locals>.wrapper\u001b[0;34m(*args, **kwargs)\u001b[0m\n\u001b[1;32m    138\u001b[0m profile_name \u001b[39m=\u001b[39m \u001b[39m\"\u001b[39m\u001b[39mOptimizer.step#\u001b[39m\u001b[39m{}\u001b[39;00m\u001b[39m.step\u001b[39m\u001b[39m\"\u001b[39m\u001b[39m.\u001b[39mformat(obj\u001b[39m.\u001b[39m\u001b[39m__class__\u001b[39m\u001b[39m.\u001b[39m\u001b[39m__name__\u001b[39m)\n\u001b[1;32m    139\u001b[0m \u001b[39mwith\u001b[39;00m torch\u001b[39m.\u001b[39mautograd\u001b[39m.\u001b[39mprofiler\u001b[39m.\u001b[39mrecord_function(profile_name):\n\u001b[0;32m--> 140\u001b[0m     out \u001b[39m=\u001b[39m func(\u001b[39m*\u001b[39;49margs, \u001b[39m*\u001b[39;49m\u001b[39m*\u001b[39;49mkwargs)\n\u001b[1;32m    141\u001b[0m     obj\u001b[39m.\u001b[39m_optimizer_step_code()\n\u001b[1;32m    142\u001b[0m     \u001b[39mreturn\u001b[39;00m out\n",
      "File \u001b[0;32m~/Documents/Developing/Repos/Deep-Learning/deep-learning-venv/lib/python3.10/site-packages/torch/optim/optimizer.py:23\u001b[0m, in \u001b[0;36m_use_grad_for_differentiable.<locals>._use_grad\u001b[0;34m(self, *args, **kwargs)\u001b[0m\n\u001b[1;32m     21\u001b[0m \u001b[39mtry\u001b[39;00m:\n\u001b[1;32m     22\u001b[0m     torch\u001b[39m.\u001b[39mset_grad_enabled(\u001b[39mself\u001b[39m\u001b[39m.\u001b[39mdefaults[\u001b[39m'\u001b[39m\u001b[39mdifferentiable\u001b[39m\u001b[39m'\u001b[39m])\n\u001b[0;32m---> 23\u001b[0m     ret \u001b[39m=\u001b[39m func(\u001b[39mself\u001b[39;49m, \u001b[39m*\u001b[39;49margs, \u001b[39m*\u001b[39;49m\u001b[39m*\u001b[39;49mkwargs)\n\u001b[1;32m     24\u001b[0m \u001b[39mfinally\u001b[39;00m:\n\u001b[1;32m     25\u001b[0m     torch\u001b[39m.\u001b[39mset_grad_enabled(prev_grad)\n",
      "File \u001b[0;32m~/Documents/Developing/Repos/Deep-Learning/deep-learning-venv/lib/python3.10/site-packages/torch/optim/adam.py:234\u001b[0m, in \u001b[0;36mAdam.step\u001b[0;34m(self, closure, grad_scaler)\u001b[0m\n\u001b[1;32m    231\u001b[0m                 \u001b[39mraise\u001b[39;00m \u001b[39mRuntimeError\u001b[39;00m(\u001b[39m'\u001b[39m\u001b[39m`requires_grad` is not supported for `step` in differentiable mode\u001b[39m\u001b[39m'\u001b[39m)\n\u001b[1;32m    232\u001b[0m             state_steps\u001b[39m.\u001b[39mappend(state[\u001b[39m'\u001b[39m\u001b[39mstep\u001b[39m\u001b[39m'\u001b[39m])\n\u001b[0;32m--> 234\u001b[0m     adam(params_with_grad,\n\u001b[1;32m    235\u001b[0m          grads,\n\u001b[1;32m    236\u001b[0m          exp_avgs,\n\u001b[1;32m    237\u001b[0m          exp_avg_sqs,\n\u001b[1;32m    238\u001b[0m          max_exp_avg_sqs,\n\u001b[1;32m    239\u001b[0m          state_steps,\n\u001b[1;32m    240\u001b[0m          amsgrad\u001b[39m=\u001b[39;49mgroup[\u001b[39m'\u001b[39;49m\u001b[39mamsgrad\u001b[39;49m\u001b[39m'\u001b[39;49m],\n\u001b[1;32m    241\u001b[0m          beta1\u001b[39m=\u001b[39;49mbeta1,\n\u001b[1;32m    242\u001b[0m          beta2\u001b[39m=\u001b[39;49mbeta2,\n\u001b[1;32m    243\u001b[0m          lr\u001b[39m=\u001b[39;49mgroup[\u001b[39m'\u001b[39;49m\u001b[39mlr\u001b[39;49m\u001b[39m'\u001b[39;49m],\n\u001b[1;32m    244\u001b[0m          weight_decay\u001b[39m=\u001b[39;49mgroup[\u001b[39m'\u001b[39;49m\u001b[39mweight_decay\u001b[39;49m\u001b[39m'\u001b[39;49m],\n\u001b[1;32m    245\u001b[0m          eps\u001b[39m=\u001b[39;49mgroup[\u001b[39m'\u001b[39;49m\u001b[39meps\u001b[39;49m\u001b[39m'\u001b[39;49m],\n\u001b[1;32m    246\u001b[0m          maximize\u001b[39m=\u001b[39;49mgroup[\u001b[39m'\u001b[39;49m\u001b[39mmaximize\u001b[39;49m\u001b[39m'\u001b[39;49m],\n\u001b[1;32m    247\u001b[0m          foreach\u001b[39m=\u001b[39;49mgroup[\u001b[39m'\u001b[39;49m\u001b[39mforeach\u001b[39;49m\u001b[39m'\u001b[39;49m],\n\u001b[1;32m    248\u001b[0m          capturable\u001b[39m=\u001b[39;49mgroup[\u001b[39m'\u001b[39;49m\u001b[39mcapturable\u001b[39;49m\u001b[39m'\u001b[39;49m],\n\u001b[1;32m    249\u001b[0m          differentiable\u001b[39m=\u001b[39;49mgroup[\u001b[39m'\u001b[39;49m\u001b[39mdifferentiable\u001b[39;49m\u001b[39m'\u001b[39;49m],\n\u001b[1;32m    250\u001b[0m          fused\u001b[39m=\u001b[39;49mgroup[\u001b[39m'\u001b[39;49m\u001b[39mfused\u001b[39;49m\u001b[39m'\u001b[39;49m],\n\u001b[1;32m    251\u001b[0m          grad_scale\u001b[39m=\u001b[39;49mgrad_scale,\n\u001b[1;32m    252\u001b[0m          found_inf\u001b[39m=\u001b[39;49mfound_inf)\n\u001b[1;32m    254\u001b[0m \u001b[39mreturn\u001b[39;00m loss\n",
      "File \u001b[0;32m~/Documents/Developing/Repos/Deep-Learning/deep-learning-venv/lib/python3.10/site-packages/torch/optim/adam.py:300\u001b[0m, in \u001b[0;36madam\u001b[0;34m(params, grads, exp_avgs, exp_avg_sqs, max_exp_avg_sqs, state_steps, foreach, capturable, differentiable, fused, grad_scale, found_inf, amsgrad, beta1, beta2, lr, weight_decay, eps, maximize)\u001b[0m\n\u001b[1;32m    297\u001b[0m \u001b[39melse\u001b[39;00m:\n\u001b[1;32m    298\u001b[0m     func \u001b[39m=\u001b[39m _single_tensor_adam\n\u001b[0;32m--> 300\u001b[0m func(params,\n\u001b[1;32m    301\u001b[0m      grads,\n\u001b[1;32m    302\u001b[0m      exp_avgs,\n\u001b[1;32m    303\u001b[0m      exp_avg_sqs,\n\u001b[1;32m    304\u001b[0m      max_exp_avg_sqs,\n\u001b[1;32m    305\u001b[0m      state_steps,\n\u001b[1;32m    306\u001b[0m      amsgrad\u001b[39m=\u001b[39;49mamsgrad,\n\u001b[1;32m    307\u001b[0m      beta1\u001b[39m=\u001b[39;49mbeta1,\n\u001b[1;32m    308\u001b[0m      beta2\u001b[39m=\u001b[39;49mbeta2,\n\u001b[1;32m    309\u001b[0m      lr\u001b[39m=\u001b[39;49mlr,\n\u001b[1;32m    310\u001b[0m      weight_decay\u001b[39m=\u001b[39;49mweight_decay,\n\u001b[1;32m    311\u001b[0m      eps\u001b[39m=\u001b[39;49meps,\n\u001b[1;32m    312\u001b[0m      maximize\u001b[39m=\u001b[39;49mmaximize,\n\u001b[1;32m    313\u001b[0m      capturable\u001b[39m=\u001b[39;49mcapturable,\n\u001b[1;32m    314\u001b[0m      differentiable\u001b[39m=\u001b[39;49mdifferentiable,\n\u001b[1;32m    315\u001b[0m      grad_scale\u001b[39m=\u001b[39;49mgrad_scale,\n\u001b[1;32m    316\u001b[0m      found_inf\u001b[39m=\u001b[39;49mfound_inf)\n",
      "File \u001b[0;32m~/Documents/Developing/Repos/Deep-Learning/deep-learning-venv/lib/python3.10/site-packages/torch/optim/adam.py:363\u001b[0m, in \u001b[0;36m_single_tensor_adam\u001b[0;34m(params, grads, exp_avgs, exp_avg_sqs, max_exp_avg_sqs, state_steps, grad_scale, found_inf, amsgrad, beta1, beta2, lr, weight_decay, eps, maximize, capturable, differentiable)\u001b[0m\n\u001b[1;32m    360\u001b[0m     param \u001b[39m=\u001b[39m torch\u001b[39m.\u001b[39mview_as_real(param)\n\u001b[1;32m    362\u001b[0m \u001b[39m# Decay the first and second moment running average coefficient\u001b[39;00m\n\u001b[0;32m--> 363\u001b[0m exp_avg\u001b[39m.\u001b[39;49mmul_(beta1)\u001b[39m.\u001b[39;49madd_(grad, alpha\u001b[39m=\u001b[39;49m\u001b[39m1\u001b[39;49m \u001b[39m-\u001b[39;49m beta1)\n\u001b[1;32m    364\u001b[0m exp_avg_sq\u001b[39m.\u001b[39mmul_(beta2)\u001b[39m.\u001b[39maddcmul_(grad, grad\u001b[39m.\u001b[39mconj(), value\u001b[39m=\u001b[39m\u001b[39m1\u001b[39m \u001b[39m-\u001b[39m beta2)\n\u001b[1;32m    366\u001b[0m \u001b[39mif\u001b[39;00m capturable \u001b[39mor\u001b[39;00m differentiable:\n",
      "\u001b[0;31mKeyboardInterrupt\u001b[0m: "
     ]
    }
   ],
   "source": [
    "train(dataloader, model, optimizer, scheduler, evaluator, checkpoint, clock,\n",
    "    epochs=1000, warmups=100, verbose=True, device=device)"
   ]
  },
  {
   "cell_type": "code",
   "execution_count": 16,
   "metadata": {},
   "outputs": [],
   "source": [
    "checkpoint = Checkpoint(model, optimizer, scheduler, None, None, None, None, None)\n",
    "checkpoint.load_checkpoint(path=\"checkpoints/english-german-3\")"
   ]
  },
  {
   "cell_type": "code",
   "execution_count": null,
   "metadata": {},
   "outputs": [
    {
     "name": "stdout",
     "output_type": "stream",
     "text": [
      "Training Resumed\n"
     ]
    },
    {
     "ename": "TypeError",
     "evalue": "unsupported operand type(s) for +=: 'NoneType' and 'float'",
     "output_type": "error",
     "traceback": [
      "\u001b[0;31m---------------------------------------------------------------------------\u001b[0m",
      "\u001b[0;31mTypeError\u001b[0m                                 Traceback (most recent call last)",
      "Cell \u001b[0;32mIn[19], line 1\u001b[0m\n\u001b[0;32m----> 1\u001b[0m retrain(dataloader, checkpoint, \u001b[39m1000\u001b[39;49m)\n",
      "File \u001b[0;32m~/Documents/Developing/Repos/Deep-Learning/Transformer/training.py:134\u001b[0m, in \u001b[0;36mretrain\u001b[0;34m(dataloader, checkpoint, epochs, warmups, verbose, device)\u001b[0m\n\u001b[1;32m    132\u001b[0m \u001b[39m# get losses\u001b[39;00m\n\u001b[1;32m    133\u001b[0m epoch_loss \u001b[39m=\u001b[39m accum_loss \u001b[39m/\u001b[39m m\n\u001b[0;32m--> 134\u001b[0m net_loss \u001b[39m+\u001b[39m\u001b[39m=\u001b[39m epoch_loss\n\u001b[1;32m    135\u001b[0m \u001b[39m# apply scheduler after warmups\u001b[39;00m\n\u001b[1;32m    136\u001b[0m warmup \u001b[39m=\u001b[39m epoch \u001b[39m+\u001b[39m \u001b[39m1\u001b[39m \u001b[39m<\u001b[39m warmups \u001b[39mif\u001b[39;00m scheduler \u001b[39melse\u001b[39;00m \u001b[39mNone\u001b[39;00m\n",
      "\u001b[0;31mTypeError\u001b[0m: unsupported operand type(s) for +=: 'NoneType' and 'float'"
     ]
    }
   ],
   "source": [
    "retrain(dataloader, checkpoint, 1000)"
   ]
  }
 ],
 "metadata": {
  "kernelspec": {
   "display_name": "deep-learning-venv",
   "language": "python",
   "name": "python3"
  },
  "language_info": {
   "codemirror_mode": {
    "name": "ipython",
    "version": 3
   },
   "file_extension": ".py",
   "mimetype": "text/x-python",
   "name": "python",
   "nbconvert_exporter": "python",
   "pygments_lexer": "ipython3",
   "version": "3.10.1"
  },
  "orig_nbformat": 4,
  "vscode": {
   "interpreter": {
    "hash": "cdd6e1c2b78b644f0d9d9d71785509219b94538d762b98250c0a1db53509cbf1"
   }
  }
 },
 "nbformat": 4,
 "nbformat_minor": 2
}
