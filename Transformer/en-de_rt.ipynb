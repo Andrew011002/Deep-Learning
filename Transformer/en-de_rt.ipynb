{
 "cells": [
  {
   "cell_type": "code",
   "execution_count": 1,
   "metadata": {},
   "outputs": [
    {
     "name": "stderr",
     "output_type": "stream",
     "text": [
      "/Users/tonimo/Documents/Developing/Repos/Deep-Learning/deep-learning-venv/lib/python3.10/site-packages/tqdm/auto.py:22: TqdmWarning: IProgress not found. Please update jupyter and ipywidgets. See https://ipywidgets.readthedocs.io/en/stable/user_install.html\n",
      "  from .autonotebook import tqdm as notebook_tqdm\n"
     ]
    },
    {
     "name": "stdout",
     "output_type": "stream",
     "text": [
      "Using cpu\n"
     ]
    }
   ],
   "source": [
    "import torch\n",
    "import torch.optim as optim\n",
    "from transformer import Transformer\n",
    "from utils import *\n",
    "from train import *\n",
    "from inference import *\n",
    "from tokenizer import *\n",
    "from config import *\n",
    "\n",
    "print(f\"Using {device}\")"
   ]
  },
  {
   "cell_type": "code",
   "execution_count": 2,
   "metadata": {},
   "outputs": [
    {
     "name": "stdout",
     "output_type": "stream",
     "text": [
      "Tokenizer loaded\n",
      "Number of input tokens: 4498\n",
      "Number of output tokens: 5666\n"
     ]
    }
   ],
   "source": [
    "translator = load_tokenizer(\"translator\")\n",
    "start, end, pad = translator[\"[S]\"], translator[\"[E]\"], translator[\"[P]\"]\n",
    "en_vocab, de_vocab = translator.vocab_size()\n",
    "print(f\"Number of input tokens: {en_vocab}\\nNumber of output tokens: {de_vocab}\")"
   ]
  },
  {
   "cell_type": "code",
   "execution_count": 3,
   "metadata": {},
   "outputs": [
    {
     "name": "stdout",
     "output_type": "stream",
     "text": [
      "Number of Trainable Paramaters: 6.3M\n",
      "Size of Model: 24.0MB\n"
     ]
    }
   ],
   "source": [
    "model = Transformer(en_vocab, de_vocab, maxlen, pad_id=pad, dm=dm, nhead=nhead, layers=layers, dff=dff,\n",
    "                    bias=bias, dropout=dropout, eps=eps)\n",
    "optimizer = optim.Adam(model.parameters(), lr=lr, betas=betas, eps=adam_eps)\n",
    "scheduler = optim.lr_scheduler.ReduceLROnPlateau(optimizer, factor=factor, patience=patience)\n",
    "model.to(device)\n",
    "print(f\"Number of Trainable Paramaters: {parameter_count(model):.1f}M\\nSize of Model: {model_size(model):.1f}MB\")"
   ]
  },
  {
   "cell_type": "code",
   "execution_count": 4,
   "metadata": {},
   "outputs": [
    {
     "name": "stdout",
     "output_type": "stream",
     "text": [
      "Checkpoint Loaded\n"
     ]
    }
   ],
   "source": [
    "checkpoint = Checkpoint(None, model, optimizer)\n",
    "checkpoint.load_checkpoint(\"checkpoint\", verbose=verbose, device=device)"
   ]
  },
  {
   "cell_type": "code",
   "execution_count": 5,
   "metadata": {},
   "outputs": [
    {
     "name": "stdout",
     "output_type": "stream",
     "text": [
      "Training Resumed\n",
      "-------------------------------------------------------------------------------\n",
      "Epoch 11 Complete | Epoch Duration: 00:00:11 | Elapsed Training Time: 00:01:34 |\n",
      "Metrics | Epoch Loss: 6.5612 | BLEU Score: 0.0 | \n",
      "Other Info | Checkpoint Saved: False |\n",
      "-------------------------------------------------------------------------------\n",
      "Epoch 12 Complete | Epoch Duration: 00:00:10 | Elapsed Training Time: 00:01:44 |\n",
      "Metrics | Epoch Loss: 6.4549 | BLEU Score: 0.0 | \n",
      "Other Info | Checkpoint Saved: False |\n",
      "-------------------------------------------------------------------------------\n",
      "Epoch 13 Complete | Epoch Duration: 00:00:10 | Elapsed Training Time: 00:01:54 |\n",
      "Metrics | Epoch Loss: 6.3531 | BLEU Score: 0.0 | \n",
      "Other Info | Checkpoint Saved: False |\n",
      "-------------------------------------------------------------------------------\n",
      "Epoch 14 Complete | Epoch Duration: 00:00:09 | Elapsed Training Time: 00:02:03 |\n",
      "Metrics | Epoch Loss: 6.2595 | BLEU Score: 0.0 | \n",
      "Other Info | Checkpoint Saved: False |\n",
      "-------------------------------------------------------------------------------\n",
      "Epoch 15 Complete | Epoch Duration: 00:00:10 | Elapsed Training Time: 00:02:13 |\n",
      "Metrics | Epoch Loss: 6.1742 | BLEU Score: 0.0 | \n",
      "Other Info | Checkpoint Saved: True |\n",
      "-------------------------------------------------------------------------------\n",
      "Epoch 16 Complete | Epoch Duration: 00:00:10 | Elapsed Training Time: 00:02:22 |\n",
      "Metrics | Epoch Loss: 6.0925 | BLEU Score: 0.0 | \n",
      "Other Info | Checkpoint Saved: False |\n",
      "-------------------------------------------------------------------------------\n",
      "Epoch 17 Complete | Epoch Duration: 00:00:09 | Elapsed Training Time: 00:02:31 |\n",
      "Metrics | Epoch Loss: 6.0214 | BLEU Score: 0.0 | \n",
      "Other Info | Checkpoint Saved: False |\n",
      "-------------------------------------------------------------------------------\n",
      "Epoch 18 Complete | Epoch Duration: 00:00:09 | Elapsed Training Time: 00:02:41 |\n",
      "Metrics | Epoch Loss: 5.9556 | BLEU Score: 0.0 | \n",
      "Other Info | Checkpoint Saved: False |\n",
      "-------------------------------------------------------------------------------\n",
      "Epoch 19 Complete | Epoch Duration: 00:00:09 | Elapsed Training Time: 00:02:50 |\n",
      "Metrics | Epoch Loss: 5.8976 | BLEU Score: 0.0 | \n",
      "Other Info | Checkpoint Saved: False |\n",
      "-------------------------------------------------------------------------------\n",
      "Epoch 20 Complete | Epoch Duration: 00:00:09 | Elapsed Training Time: 00:02:59 |\n",
      "Metrics | Epoch Loss: 5.8466 | BLEU Score: 0.0 | \n",
      "Other Info | Checkpoint Saved: True |\n",
      "-------------------------------------------------------------------------------\n",
      "Epoch 21 Complete | Epoch Duration: 00:00:09 | Elapsed Training Time: 00:03:08 |\n",
      "Metrics | Epoch Loss: 5.8027 | BLEU Score: 0.0 | \n",
      "Other Info | Checkpoint Saved: False |\n",
      "-------------------------------------------------------------------------------\n",
      "Epoch 22 Complete | Epoch Duration: 00:00:09 | Elapsed Training Time: 00:03:17 |\n",
      "Metrics | Epoch Loss: 5.7633 | BLEU Score: 0.0 | \n",
      "Other Info | Checkpoint Saved: False |\n"
     ]
    },
    {
     "ename": "KeyboardInterrupt",
     "evalue": "",
     "output_type": "error",
     "traceback": [
      "\u001b[0;31m---------------------------------------------------------------------------\u001b[0m",
      "\u001b[0;31mKeyboardInterrupt\u001b[0m                         Traceback (most recent call last)",
      "Cell \u001b[0;32mIn[5], line 1\u001b[0m\n\u001b[0;32m----> 1\u001b[0m retrain(checkpoint, epochs\u001b[39m=\u001b[39;49mepochs, verbose\u001b[39m=\u001b[39;49mverbose, device\u001b[39m=\u001b[39;49mdevice)\n",
      "File \u001b[0;32m~/Documents/Developing/Repos/Deep-Learning/Transformer/train.py:120\u001b[0m, in \u001b[0;36mretrain\u001b[0;34m(checkpoint, epochs, warmups, verbose, device)\u001b[0m\n\u001b[1;32m    118\u001b[0m \u001b[39m# calc loss & backprop\u001b[39;00m\n\u001b[1;32m    119\u001b[0m loss \u001b[39m=\u001b[39m loss_fn(pred, out)\n\u001b[0;32m--> 120\u001b[0m loss\u001b[39m.\u001b[39;49mbackward()\n\u001b[1;32m    121\u001b[0m optimizer\u001b[39m.\u001b[39mstep()\n\u001b[1;32m    122\u001b[0m \u001b[39m# accumulate loss over time\u001b[39;00m\n",
      "File \u001b[0;32m~/Documents/Developing/Repos/Deep-Learning/deep-learning-venv/lib/python3.10/site-packages/torch/_tensor.py:487\u001b[0m, in \u001b[0;36mTensor.backward\u001b[0;34m(self, gradient, retain_graph, create_graph, inputs)\u001b[0m\n\u001b[1;32m    477\u001b[0m \u001b[39mif\u001b[39;00m has_torch_function_unary(\u001b[39mself\u001b[39m):\n\u001b[1;32m    478\u001b[0m     \u001b[39mreturn\u001b[39;00m handle_torch_function(\n\u001b[1;32m    479\u001b[0m         Tensor\u001b[39m.\u001b[39mbackward,\n\u001b[1;32m    480\u001b[0m         (\u001b[39mself\u001b[39m,),\n\u001b[0;32m   (...)\u001b[0m\n\u001b[1;32m    485\u001b[0m         inputs\u001b[39m=\u001b[39minputs,\n\u001b[1;32m    486\u001b[0m     )\n\u001b[0;32m--> 487\u001b[0m torch\u001b[39m.\u001b[39;49mautograd\u001b[39m.\u001b[39;49mbackward(\n\u001b[1;32m    488\u001b[0m     \u001b[39mself\u001b[39;49m, gradient, retain_graph, create_graph, inputs\u001b[39m=\u001b[39;49minputs\n\u001b[1;32m    489\u001b[0m )\n",
      "File \u001b[0;32m~/Documents/Developing/Repos/Deep-Learning/deep-learning-venv/lib/python3.10/site-packages/torch/autograd/__init__.py:197\u001b[0m, in \u001b[0;36mbackward\u001b[0;34m(tensors, grad_tensors, retain_graph, create_graph, grad_variables, inputs)\u001b[0m\n\u001b[1;32m    192\u001b[0m     retain_graph \u001b[39m=\u001b[39m create_graph\n\u001b[1;32m    194\u001b[0m \u001b[39m# The reason we repeat same the comment below is that\u001b[39;00m\n\u001b[1;32m    195\u001b[0m \u001b[39m# some Python versions print out the first line of a multi-line function\u001b[39;00m\n\u001b[1;32m    196\u001b[0m \u001b[39m# calls in the traceback and some print out the last line\u001b[39;00m\n\u001b[0;32m--> 197\u001b[0m Variable\u001b[39m.\u001b[39;49m_execution_engine\u001b[39m.\u001b[39;49mrun_backward(  \u001b[39m# Calls into the C++ engine to run the backward pass\u001b[39;49;00m\n\u001b[1;32m    198\u001b[0m     tensors, grad_tensors_, retain_graph, create_graph, inputs,\n\u001b[1;32m    199\u001b[0m     allow_unreachable\u001b[39m=\u001b[39;49m\u001b[39mTrue\u001b[39;49;00m, accumulate_grad\u001b[39m=\u001b[39;49m\u001b[39mTrue\u001b[39;49;00m)\n",
      "\u001b[0;31mKeyboardInterrupt\u001b[0m: "
     ]
    }
   ],
   "source": [
    "retrain(checkpoint, epochs=epochs, verbose=verbose, device=device)"
   ]
  }
 ],
 "metadata": {
  "kernelspec": {
   "display_name": "deep-learning-venv",
   "language": "python",
   "name": "python3"
  },
  "language_info": {
   "codemirror_mode": {
    "name": "ipython",
    "version": 3
   },
   "file_extension": ".py",
   "mimetype": "text/x-python",
   "name": "python",
   "nbconvert_exporter": "python",
   "pygments_lexer": "ipython3",
   "version": "3.10.1"
  },
  "orig_nbformat": 4,
  "vscode": {
   "interpreter": {
    "hash": "cdd6e1c2b78b644f0d9d9d71785509219b94538d762b98250c0a1db53509cbf1"
   }
  }
 },
 "nbformat": 4,
 "nbformat_minor": 2
}
