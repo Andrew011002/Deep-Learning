{
 "cells": [
  {
   "cell_type": "code",
   "execution_count": 1,
   "metadata": {},
   "outputs": [
    {
     "name": "stderr",
     "output_type": "stream",
     "text": [
      "/Users/tonimo/Documents/Developing/Repos/Deep-Learning/deep-learning-env/lib/python3.9/site-packages/tqdm/auto.py:22: TqdmWarning: IProgress not found. Please update jupyter and ipywidgets. See https://ipywidgets.readthedocs.io/en/stable/user_install.html\n",
      "  from .autonotebook import tqdm as notebook_tqdm\n"
     ]
    }
   ],
   "source": [
    "import numpy as np\n",
    "import torch\n",
    "import torch.nn as nn\n",
    "import torch.optim as optim\n",
    "from transformer import Transformer\n",
    "from utils import create_dataloader, ascending_data\n",
    "from training import train, predict, prompt\n",
    "from preprocess import Tokenizer\n",
    "\n",
    "device = \"cuda\" if torch.cuda.is_available() else \"cpu\""
   ]
  },
  {
   "cell_type": "code",
   "execution_count": null,
   "metadata": {},
   "outputs": [],
   "source": [
    "tokenizer = Tokenizer()\n",
    "model = Transformer(30000, 15)\n",
    "# prompt(model, tokenizer, 101, 102, 15, None)\n",
    "sequences = np.random.randint(0, 30000, (64, 15))\n",
    "predict(model, sequences, 101, 15, None)"
   ]
  },
  {
   "cell_type": "code",
   "execution_count": 3,
   "metadata": {},
   "outputs": [],
   "source": [
    "n = 5000\n",
    "vocab_size = 100\n",
    "sos = vocab_size\n",
    "eos = vocab_size + 1\n",
    "maxlen = 10\n",
    "pad_idx = 0\n",
    "inputs, outputs = ascending_data(vocab_size, n, maxlen, sos, eos, pad_idx=0)"
   ]
  },
  {
   "cell_type": "code",
   "execution_count": 14,
   "metadata": {},
   "outputs": [
    {
     "name": "stdout",
     "output_type": "stream",
     "text": [
      "[100.  27.  28.  29.  30.  31.  32.  33. 101.   0.   0.   0.]\n",
      "[101.  33.  32.  31.  30.  29.  28.  27. 100.   0.   0.   0.]\n"
     ]
    }
   ],
   "source": [
    "i = np.random.randint(0, len(inputs))\n",
    "print(inputs[i])\n",
    "print(outputs[i])"
   ]
  },
  {
   "cell_type": "code",
   "execution_count": 15,
   "metadata": {},
   "outputs": [],
   "source": [
    "dataloader = create_dataloader(inputs, outputs)"
   ]
  },
  {
   "cell_type": "code",
   "execution_count": 16,
   "metadata": {},
   "outputs": [],
   "source": [
    "model = Transformer(vocab_size + 2, maxlen + 2, pad_idx)\n",
    "optimizer = optim.Adam(model.parameters(), 0.00001, betas=(0.9, 0.98), eps=1e-10)\n",
    "\n",
    "model.to(device);"
   ]
  },
  {
   "cell_type": "code",
   "execution_count": 17,
   "metadata": {},
   "outputs": [
    {
     "name": "stdout",
     "output_type": "stream",
     "text": [
      "Training Started\n",
      "Epoch 1 Started\n",
      "Epoch 1 Complete | Epoch Average Loss: 4.3436\n",
      "Epoch 2 Started\n"
     ]
    }
   ],
   "source": [
    "train(model, optimizer, dataloader, epochs=50, verbose=1)"
   ]
  },
  {
   "cell_type": "code",
   "execution_count": null,
   "metadata": {},
   "outputs": [],
   "source": [
    "token = 15\n",
    "source = np.arange(token, token + maxlen)\n",
    "print(source)\n",
    "predict(model, source, sos, eos, maxlen)"
   ]
  }
 ],
 "metadata": {
  "kernelspec": {
   "display_name": "Python 3.9.7 ('deep-learning-env': venv)",
   "language": "python",
   "name": "python3"
  },
  "language_info": {
   "codemirror_mode": {
    "name": "ipython",
    "version": 3
   },
   "file_extension": ".py",
   "mimetype": "text/x-python",
   "name": "python",
   "nbconvert_exporter": "python",
   "pygments_lexer": "ipython3",
   "version": "3.9.7"
  },
  "orig_nbformat": 4,
  "vscode": {
   "interpreter": {
    "hash": "da2a551476f66aae3613481d49d8fd33a804395c218c6f6a2807839cdafe1d12"
   }
  }
 },
 "nbformat": 4,
 "nbformat_minor": 2
}
