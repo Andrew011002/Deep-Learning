{
 "cells": [
  {
   "cell_type": "code",
   "execution_count": 1,
   "metadata": {},
   "outputs": [
    {
     "name": "stderr",
     "output_type": "stream",
     "text": [
      "/Users/tonimo/Documents/Developing/Repos/Deep-Learning/deep-learning-env/lib/python3.9/site-packages/tqdm/auto.py:22: TqdmWarning: IProgress not found. Please update jupyter and ipywidgets. See https://ipywidgets.readthedocs.io/en/stable/user_install.html\n",
      "  from .autonotebook import tqdm as notebook_tqdm\n"
     ]
    }
   ],
   "source": [
    "import numpy as np\n",
    "import torch\n",
    "import torch.nn as nn\n",
    "import torch.optim as optim\n",
    "from transformer import Transformer\n",
    "from utils import create_dataloader\n",
    "from training import train, predict, ascending_data\n",
    "\n",
    "device = \"cuda\" if torch.cuda.is_avalible() else \"cpu\""
   ]
  },
  {
   "cell_type": "code",
   "execution_count": 2,
   "metadata": {},
   "outputs": [],
   "source": [
    "n = 5000\n",
    "vocab_size = 100 + 2\n",
    "sos = vocab_size - 2\n",
    "eos = vocab_size - 1\n",
    "maxlen = 10\n",
    "pad_idx = 0\n",
    "inputs, outputs = ascending_data(vocab_size, n, maxlen, pad_idx)"
   ]
  },
  {
   "cell_type": "code",
   "execution_count": 3,
   "metadata": {},
   "outputs": [
    {
     "name": "stdout",
     "output_type": "stream",
     "text": [
      "[80. 81. 82. 83. 84. 85. 86. 87.  0.  0.]\n",
      "[87. 86. 85. 84. 83. 82. 81. 80.  0.  0.]\n"
     ]
    }
   ],
   "source": [
    "i = np.random.randint(0, len(inputs))\n",
    "print(inputs[i])\n",
    "print(outputs[i])"
   ]
  },
  {
   "cell_type": "code",
   "execution_count": 4,
   "metadata": {},
   "outputs": [],
   "source": [
    "dataloader = create_dataloader(inputs, outputs)"
   ]
  },
  {
   "cell_type": "code",
   "execution_count": 5,
   "metadata": {},
   "outputs": [],
   "source": [
    "model = Transformer(vocab_size, maxlen, pad_idx)\n",
    "optimizer = optim.Adam(model.parameters(), 0.00001, betas=(0.9, 0.98), eps=1e-10)\n",
    "\n",
    "model.to(device)"
   ]
  },
  {
   "cell_type": "code",
   "execution_count": 6,
   "metadata": {},
   "outputs": [
    {
     "name": "stdout",
     "output_type": "stream",
     "text": [
      "Training Started\n",
      "Epoch 1 Started\n",
      "Epoch 1 Complete | Epoch Average Loss: 4.6707\n",
      "Epoch 2 Started\n",
      "Epoch 2 Complete | Epoch Average Loss: 4.5909\n",
      "Epoch 3 Started\n",
      "Epoch 3 Complete | Epoch Average Loss: 4.3553\n",
      "Epoch 4 Started\n",
      "Epoch 4 Complete | Epoch Average Loss: 3.8623\n",
      "Epoch 5 Started\n",
      "Epoch 5 Complete | Epoch Average Loss: 3.4302\n",
      "Epoch 6 Started\n",
      "Epoch 6 Complete | Epoch Average Loss: 3.0930\n",
      "Epoch 7 Started\n",
      "Epoch 7 Complete | Epoch Average Loss: 2.8410\n",
      "Epoch 8 Started\n",
      "Epoch 8 Complete | Epoch Average Loss: 2.6787\n",
      "Epoch 9 Started\n",
      "Epoch 9 Complete | Epoch Average Loss: 2.5751\n",
      "Epoch 10 Started\n",
      "Epoch 10 Complete | Epoch Average Loss: 2.4286\n",
      "Epoch 11 Started\n",
      "Epoch 11 Complete | Epoch Average Loss: 2.3175\n",
      "Epoch 12 Started\n",
      "Epoch 12 Complete | Epoch Average Loss: 2.1684\n",
      "Epoch 13 Started\n",
      "Epoch 13 Complete | Epoch Average Loss: 2.0400\n",
      "Epoch 14 Started\n",
      "Epoch 14 Complete | Epoch Average Loss: 1.9143\n",
      "Epoch 15 Started\n",
      "Epoch 15 Complete | Epoch Average Loss: 1.8004\n",
      "Epoch 16 Started\n",
      "Epoch 16 Complete | Epoch Average Loss: 1.7194\n",
      "Epoch 17 Started\n",
      "Epoch 17 Complete | Epoch Average Loss: 1.6186\n",
      "Epoch 18 Started\n",
      "Epoch 18 Complete | Epoch Average Loss: 1.5515\n",
      "Epoch 19 Started\n",
      "Epoch 19 Complete | Epoch Average Loss: 1.4885\n",
      "Epoch 20 Started\n",
      "Epoch 20 Complete | Epoch Average Loss: 1.4050\n",
      "Epoch 21 Started\n",
      "Epoch 21 Complete | Epoch Average Loss: 1.3596\n",
      "Epoch 22 Started\n",
      "Epoch 22 Complete | Epoch Average Loss: 1.2769\n",
      "Epoch 23 Started\n",
      "Epoch 23 Complete | Epoch Average Loss: 1.2103\n",
      "Epoch 24 Started\n",
      "Epoch 24 Complete | Epoch Average Loss: 1.1482\n",
      "Epoch 25 Started\n",
      "Epoch 25 Complete | Epoch Average Loss: 1.0717\n",
      "Epoch 26 Started\n",
      "Epoch 26 Complete | Epoch Average Loss: 1.0144\n",
      "Epoch 27 Started\n",
      "Epoch 27 Complete | Epoch Average Loss: 0.9341\n",
      "Epoch 28 Started\n",
      "Epoch 28 Complete | Epoch Average Loss: 0.8648\n",
      "Epoch 29 Started\n",
      "Epoch 29 Complete | Epoch Average Loss: 0.7784\n",
      "Epoch 30 Started\n"
     ]
    }
   ],
   "source": [
    "train(model, optimizer, dataloader, epochs=100, verbose=1)"
   ]
  },
  {
   "cell_type": "code",
   "execution_count": null,
   "metadata": {},
   "outputs": [
    {
     "data": {
      "text/plain": [
       "array([[1000,  831,  831,  829,  828,  828,  826,  824,  824,  824]])"
      ]
     },
     "execution_count": 12,
     "metadata": {},
     "output_type": "execute_result"
    }
   ],
   "source": [
    "token = 15\n",
    "source = np.arange(token, token + maxlen)\n",
    "predict(model, source, sos, eos, maxlen)"
   ]
  }
 ],
 "metadata": {
  "kernelspec": {
   "display_name": "Python 3.9.7 ('deep-learning-env': venv)",
   "language": "python",
   "name": "python3"
  },
  "language_info": {
   "codemirror_mode": {
    "name": "ipython",
    "version": 3
   },
   "file_extension": ".py",
   "mimetype": "text/x-python",
   "name": "python",
   "nbconvert_exporter": "python",
   "pygments_lexer": "ipython3",
   "version": "3.9.7"
  },
  "orig_nbformat": 4,
  "vscode": {
   "interpreter": {
    "hash": "da2a551476f66aae3613481d49d8fd33a804395c218c6f6a2807839cdafe1d12"
   }
  }
 },
 "nbformat": 4,
 "nbformat_minor": 2
}
