{
 "cells": [
  {
   "cell_type": "code",
   "execution_count": 1,
   "metadata": {},
   "outputs": [
    {
     "name": "stderr",
     "output_type": "stream",
     "text": [
      "/Users/tonimo/Documents/Developing/Repos/Deep-Learning/deep-learning-env/lib/python3.9/site-packages/tqdm/auto.py:22: TqdmWarning: IProgress not found. Please update jupyter and ipywidgets. See https://ipywidgets.readthedocs.io/en/stable/user_install.html\n",
      "  from .autonotebook import tqdm as notebook_tqdm\n"
     ]
    }
   ],
   "source": [
    "import numpy as np\n",
    "import torch\n",
    "import torch.nn as nn\n",
    "import torch.optim as optim\n",
    "from transformer import Transformer\n",
    "from utils import create_dataloader, ascending_data\n",
    "from training import train, predict, prompt\n",
    "from preprocess import Tokenizer\n",
    "\n",
    "device = \"cuda\" if torch.cuda.is_available() else \"cpu\""
   ]
  },
  {
   "cell_type": "code",
   "execution_count": 3,
   "metadata": {},
   "outputs": [
    {
     "data": {
      "text/plain": [
       "array([[  101, 15792, 15792,  7091, 18354, 18354, 18354, 18354, 18354,\n",
       "        18354, 18354, 18354, 18354, 18354, 18354],\n",
       "       [  101, 15792, 15792, 15792, 18354, 18354, 18354, 18354, 18354,\n",
       "        18354, 18354, 18354, 18354, 18354, 18354],\n",
       "       [  101, 15792, 15792, 15792, 18354, 18354, 18354, 18354, 18354,\n",
       "        18354, 18354, 18354, 18354, 18354, 18354],\n",
       "       [  101, 15792, 15792, 15792, 18354, 18354, 18354, 18354, 18354,\n",
       "        18354, 18354, 18354, 18354, 18354, 18354],\n",
       "       [  101, 15792, 15792, 15792, 18354, 18354, 18354, 18354, 18354,\n",
       "        18354, 18354, 18354, 18354, 18354, 18354],\n",
       "       [  101, 15792, 15792, 15792, 18354, 18354, 18354, 18354, 18354,\n",
       "        18354, 18354, 18354, 18354, 18354, 18354],\n",
       "       [  101, 15792, 15792,  7091, 18354, 18354, 18354, 18354, 18354,\n",
       "        18354, 18354, 18354, 18354, 18354, 18354],\n",
       "       [  101, 15792, 15792, 15792, 18354, 18354, 18354, 18354, 18354,\n",
       "        18354, 18354, 18354, 18354, 18354, 18354],\n",
       "       [  101, 15792, 15792, 15792, 18354, 18354, 18354, 18354, 18354,\n",
       "        18354, 18354, 18354, 18354, 18354, 18354],\n",
       "       [  101, 15792, 15792, 15792, 18354, 18354, 18354, 18354, 18354,\n",
       "        18354, 18354, 18354, 18354, 18354, 18354],\n",
       "       [  101, 15792, 15792, 15792, 18354, 18354, 18354, 18354, 18354,\n",
       "        18354, 18354, 18354, 18354, 18354, 18354],\n",
       "       [  101, 15792, 15792, 15792, 18354, 18354, 18354, 18354, 18354,\n",
       "        18354, 18354, 18354, 18354, 18354, 18354],\n",
       "       [  101, 15792, 15792, 15792, 18354, 18354, 18354, 18354, 18354,\n",
       "        18354, 18354, 18354, 18354, 18354, 18354],\n",
       "       [  101, 15792, 15792, 15792, 15792, 18354, 18354, 18354, 15792,\n",
       "        15792, 18354, 18354, 18354, 18354, 18354],\n",
       "       [  101, 15792, 15792, 15792, 18354, 18354, 18354, 18354, 18354,\n",
       "        18354, 18354, 18354, 18354, 18354, 18354],\n",
       "       [  101, 15792, 15792, 15792, 18354, 18354, 18354, 18354, 18354,\n",
       "        18354, 18354, 18354, 18354, 18354, 18354],\n",
       "       [  101, 15792, 15792, 15792, 15792, 18354, 18354, 18354, 15792,\n",
       "        15792, 18354, 18354, 18354, 18354, 18354],\n",
       "       [  101, 15792, 15792, 15792, 18354, 18354, 18354, 18354, 18354,\n",
       "        18354, 18354, 18354, 18354, 18354, 18354],\n",
       "       [  101, 15792, 15792, 15792, 18354, 18354, 18354, 18354, 18354,\n",
       "        18354, 18354, 18354, 18354, 18354, 18354],\n",
       "       [  101, 15792, 15792, 15792, 18354, 18354, 18354, 18354, 18354,\n",
       "        18354, 18354, 18354, 18354, 18354, 18354],\n",
       "       [  101, 15792, 15792, 15792, 18354, 18354, 18354, 18354, 18354,\n",
       "        18354, 18354, 18354, 18354, 18354, 18354],\n",
       "       [  101, 15792, 15792, 15792, 18354, 18354, 18354, 18354, 18354,\n",
       "        18354, 18354, 18354, 18354, 18354, 18354],\n",
       "       [  101, 15792, 15792, 15792, 18354, 18354, 18354, 18354, 18354,\n",
       "        18354, 18354, 18354, 18354, 18354, 18354],\n",
       "       [  101, 15792, 15792, 15792, 18354, 18354, 18354, 18354, 18354,\n",
       "        18354, 18354, 18354, 18354, 18354, 18354],\n",
       "       [  101, 15792, 15792, 15792, 18354, 18354, 18354, 18354, 18354,\n",
       "        18354, 18354, 18354, 18354, 18354, 18354],\n",
       "       [  101, 15792, 15792, 15792, 18354, 18354, 18354, 18354, 18354,\n",
       "        18354, 18354, 18354, 18354, 18354, 18354],\n",
       "       [  101, 15792, 15792, 15792, 18354, 18354, 18354, 18354, 18354,\n",
       "        18354, 18354, 18354, 18354, 18354, 18354],\n",
       "       [  101, 15792, 15792, 15792, 18354, 18354, 18354, 18354, 18354,\n",
       "        18354, 18354, 18354, 18354, 18354, 18354],\n",
       "       [  101, 15792, 15792, 15792, 18354, 18354, 18354, 18354, 18354,\n",
       "        18354, 18354, 18354, 18354, 18354, 18354],\n",
       "       [  101, 15792, 15792, 15792, 18354, 18354, 18354, 18354, 18354,\n",
       "        18354, 18354, 18354, 18354, 18354, 18354],\n",
       "       [  101, 15792, 15792, 15792, 18354, 18354, 18354, 18354, 18354,\n",
       "        18354, 18354, 18354, 18354, 18354, 18354],\n",
       "       [  101, 15792, 15792, 15792, 18354, 18354, 18354, 18354, 18354,\n",
       "        18354, 18354, 18354, 18354, 18354, 18354],\n",
       "       [  101, 15792, 15792, 15792, 18354, 18354, 18354, 18354, 18354,\n",
       "        18354, 18354, 18354, 18354, 18354, 18354],\n",
       "       [  101, 15792, 15792, 15792, 18354, 18354, 18354, 18354, 18354,\n",
       "        18354, 18354, 18354, 18354, 18354, 18354],\n",
       "       [  101, 15792, 15792, 15792, 18354, 18354, 18354, 18354, 18354,\n",
       "        18354, 18354, 18354, 18354, 18354, 18354],\n",
       "       [  101, 15792, 15792, 15792, 18354, 18354, 18354, 18354, 18354,\n",
       "        18354, 18354, 18354, 18354, 18354, 18354],\n",
       "       [  101, 15792, 15792,  7091, 18354, 18354, 18354, 18354, 18354,\n",
       "        18354, 18354, 18354, 18354, 18354, 18354],\n",
       "       [  101, 15792, 15792, 15792, 18354, 18354, 18354, 18354, 18354,\n",
       "        18354, 18354, 18354, 18354, 18354, 18354],\n",
       "       [  101, 15792, 15792, 15792, 18354, 18354, 18354, 18354, 18354,\n",
       "        18354, 18354, 18354, 18354, 18354, 18354],\n",
       "       [  101, 15792, 15792, 15792, 15792, 18354, 18354, 18354, 18354,\n",
       "        18354, 18354, 18354, 18354, 18354, 18354],\n",
       "       [  101, 15792, 15792,  7091, 18354, 18354, 18354, 18354, 18354,\n",
       "        18354, 18354, 18354, 18354, 18354, 18354],\n",
       "       [  101, 15792, 15792, 15792, 18354, 18354, 18354, 18354, 18354,\n",
       "        18354, 18354, 18354, 18354, 18354, 18354],\n",
       "       [  101, 15792, 15792, 15792, 18354, 18354, 18354, 18354, 18354,\n",
       "        18354, 18354, 18354, 18354, 18354, 18354],\n",
       "       [  101, 15792, 15792, 15792, 15792, 18354, 18354, 18354, 15792,\n",
       "        15792, 18354, 18354, 18354, 18354, 18354],\n",
       "       [  101, 15792, 15792, 15792, 18354, 18354, 18354, 18354, 18354,\n",
       "        18354, 18354, 18354, 18354, 18354, 18354],\n",
       "       [  101, 15792, 15792, 15792, 18354, 18354, 18354, 18354, 18354,\n",
       "        18354, 18354, 18354, 18354, 18354, 18354],\n",
       "       [  101, 15792, 15792, 15792, 18354, 18354, 18354, 18354, 18354,\n",
       "        18354, 18354, 18354, 18354, 18354, 18354],\n",
       "       [  101, 15792, 15792, 15792, 18354, 18354, 18354, 18354, 18354,\n",
       "        18354, 18354, 18354, 18354, 18354, 18354],\n",
       "       [  101, 15792, 15792, 15792, 18354, 18354, 18354, 18354, 18354,\n",
       "        18354, 18354, 18354, 18354, 18354, 18354],\n",
       "       [  101, 15792, 15792, 15792, 18354, 18354, 18354, 18354, 18354,\n",
       "        18354, 18354, 18354, 18354, 18354, 18354],\n",
       "       [  101, 15792, 15792, 15792, 18354, 18354, 18354, 18354, 18354,\n",
       "        18354, 18354, 18354, 18354, 18354, 18354],\n",
       "       [  101, 15792, 15792, 15792, 18354, 18354, 18354, 18354, 18354,\n",
       "        18354, 18354, 18354, 18354, 18354, 18354],\n",
       "       [  101, 15792, 15792, 15792, 18354, 18354, 18354, 18354, 18354,\n",
       "        18354, 18354, 18354, 18354, 18354, 18354],\n",
       "       [  101, 15792, 15792, 15792, 18354, 18354, 18354, 18354, 18354,\n",
       "        18354, 18354, 18354, 18354, 18354, 18354],\n",
       "       [  101, 15792, 15792, 15792, 18354, 18354, 18354, 18354, 18354,\n",
       "        18354, 18354, 18354, 18354, 18354, 18354],\n",
       "       [  101, 15792, 15792, 15792, 18354, 18354, 18354, 18354, 18354,\n",
       "        18354, 18354, 18354, 18354, 18354, 18354],\n",
       "       [  101, 15792, 15792,  7091, 18354, 18354, 18354, 18354, 18354,\n",
       "        18354, 18354, 18354, 18354, 18354, 18354],\n",
       "       [  101, 15792, 15792,  7091, 18354, 18354, 18354, 18354, 18354,\n",
       "        18354, 18354, 18354, 18354, 18354, 18354],\n",
       "       [  101, 15792, 15792, 15792, 18354, 18354, 18354, 18354, 18354,\n",
       "        18354, 18354, 18354, 18354, 18354, 18354],\n",
       "       [  101, 15792, 15792, 15792, 18354, 18354, 18354, 18354, 18354,\n",
       "        18354, 18354, 18354, 18354, 18354, 18354],\n",
       "       [  101, 15792, 15792, 15792, 15792, 18354, 18354, 18354, 18354,\n",
       "        18354, 18354, 18354, 18354, 18354, 18354],\n",
       "       [  101, 15792, 15792, 15792, 18354, 18354, 18354, 18354, 18354,\n",
       "        18354, 18354, 18354, 18354, 18354, 18354],\n",
       "       [  101, 15792, 15792, 15792, 18354, 18354, 18354, 18354, 18354,\n",
       "        18354, 18354, 18354, 18354, 18354, 18354],\n",
       "       [  101, 15792, 15792, 15792, 18354, 18354, 18354, 18354, 18354,\n",
       "        18354, 18354, 18354, 18354, 18354, 18354]])"
      ]
     },
     "execution_count": 3,
     "metadata": {},
     "output_type": "execute_result"
    }
   ],
   "source": [
    "tokenizer = Tokenizer()\n",
    "model = Transformer(30000, 15)\n",
    "# prompt(model, tokenizer, 101, 102, 15, None)\n",
    "sequences = np.random.randint(0, 30000, (64, 15))\n",
    "predict(model, sequences, 101, 15, None)"
   ]
  },
  {
   "cell_type": "code",
   "execution_count": null,
   "metadata": {},
   "outputs": [],
   "source": [
    "n = 5000\n",
    "vocab_size = 100\n",
    "sos = vocab_size\n",
    "eos = vocab_size + 1\n",
    "maxlen = 10\n",
    "pad_idx = 0\n",
    "inputs, outputs = ascending_data(vocab_size, n, maxlen, sos, eos, pad_idx=0)"
   ]
  },
  {
   "cell_type": "code",
   "execution_count": null,
   "metadata": {},
   "outputs": [
    {
     "name": "stdout",
     "output_type": "stream",
     "text": [
      "[100.  58.  59.  60.  61.  62.  63.  64.  65.  66.  67. 101.]\n",
      "[101.  67.  66.  65.  64.  63.  62.  61.  60.  59.  58. 100.]\n"
     ]
    }
   ],
   "source": [
    "i = np.random.randint(0, len(inputs))\n",
    "print(inputs[i])\n",
    "print(outputs[i])"
   ]
  },
  {
   "cell_type": "code",
   "execution_count": null,
   "metadata": {},
   "outputs": [],
   "source": [
    "dataloader = create_dataloader(inputs, outputs)"
   ]
  },
  {
   "cell_type": "code",
   "execution_count": null,
   "metadata": {},
   "outputs": [],
   "source": [
    "model = Transformer(vocab_size + 2, maxlen + 2, pad_idx)\n",
    "optimizer = optim.Adam(model.parameters(), 0.00001, betas=(0.9, 0.98), eps=1e-10)\n",
    "\n",
    "model.to(device);"
   ]
  },
  {
   "cell_type": "code",
   "execution_count": null,
   "metadata": {},
   "outputs": [
    {
     "name": "stdout",
     "output_type": "stream",
     "text": [
      "Training Started\n",
      "Epoch 1 Started\n",
      "Epoch 1 Complete | Epoch Average Loss: 4.3581\n",
      "Epoch 2 Started\n",
      "Epoch 2 Complete | Epoch Average Loss: 4.0989\n",
      "Epoch 3 Started\n",
      "Epoch 3 Complete | Epoch Average Loss: 3.9712\n",
      "Epoch 4 Started\n",
      "Epoch 4 Complete | Epoch Average Loss: 3.9066\n",
      "Epoch 5 Started\n",
      "Epoch 5 Complete | Epoch Average Loss: 3.7469\n",
      "Epoch 6 Started\n",
      "Epoch 6 Complete | Epoch Average Loss: 3.5015\n",
      "Epoch 7 Started\n",
      "Epoch 7 Complete | Epoch Average Loss: 3.1836\n",
      "Epoch 8 Started\n",
      "Epoch 8 Complete | Epoch Average Loss: 2.9324\n",
      "Epoch 9 Started\n",
      "Epoch 9 Complete | Epoch Average Loss: 2.6901\n",
      "Epoch 10 Started\n",
      "Epoch 10 Complete | Epoch Average Loss: 2.5272\n",
      "Epoch 11 Started\n",
      "Epoch 11 Complete | Epoch Average Loss: 2.3742\n",
      "Epoch 12 Started\n",
      "Epoch 12 Complete | Epoch Average Loss: 2.2208\n",
      "Epoch 13 Started\n",
      "Epoch 13 Complete | Epoch Average Loss: 2.1111\n",
      "Epoch 14 Started\n",
      "Epoch 14 Complete | Epoch Average Loss: 2.0060\n",
      "Epoch 15 Started\n",
      "Epoch 15 Complete | Epoch Average Loss: 1.8994\n",
      "Epoch 16 Started\n",
      "Epoch 16 Complete | Epoch Average Loss: 1.8145\n",
      "Epoch 17 Started\n",
      "Epoch 17 Complete | Epoch Average Loss: 1.7404\n",
      "Epoch 18 Started\n"
     ]
    },
    {
     "ename": "KeyboardInterrupt",
     "evalue": "",
     "output_type": "error",
     "traceback": [
      "\u001b[0;31m---------------------------------------------------------------------------\u001b[0m",
      "\u001b[0;31mKeyboardInterrupt\u001b[0m                         Traceback (most recent call last)",
      "Cell \u001b[0;32mIn [6], line 1\u001b[0m\n\u001b[0;32m----> 1\u001b[0m train(model, optimizer, dataloader, epochs\u001b[39m=\u001b[39;49m\u001b[39m50\u001b[39;49m, verbose\u001b[39m=\u001b[39;49m\u001b[39m1\u001b[39;49m)\n",
      "File \u001b[0;32m~/Documents/Developing/Repos/Deep-Learning/Transformer/training.py:57\u001b[0m, in \u001b[0;36mtrain\u001b[0;34m(model, optimizer, dataloader, epochs, device, verbose)\u001b[0m\n\u001b[1;32m     55\u001b[0m \u001b[39m# calculate loss and backpropagate\u001b[39;00m\n\u001b[1;32m     56\u001b[0m loss \u001b[39m=\u001b[39m loss_fn(pred, out)\n\u001b[0;32m---> 57\u001b[0m loss\u001b[39m.\u001b[39;49mbackward()\n\u001b[1;32m     58\u001b[0m optimizer\u001b[39m.\u001b[39mstep()\n\u001b[1;32m     59\u001b[0m \u001b[39m# tally loss over time\u001b[39;00m\n",
      "File \u001b[0;32m~/Documents/Developing/Repos/Deep-Learning/deep-learning-env/lib/python3.9/site-packages/torch/_tensor.py:396\u001b[0m, in \u001b[0;36mTensor.backward\u001b[0;34m(self, gradient, retain_graph, create_graph, inputs)\u001b[0m\n\u001b[1;32m    387\u001b[0m \u001b[39mif\u001b[39;00m has_torch_function_unary(\u001b[39mself\u001b[39m):\n\u001b[1;32m    388\u001b[0m     \u001b[39mreturn\u001b[39;00m handle_torch_function(\n\u001b[1;32m    389\u001b[0m         Tensor\u001b[39m.\u001b[39mbackward,\n\u001b[1;32m    390\u001b[0m         (\u001b[39mself\u001b[39m,),\n\u001b[0;32m   (...)\u001b[0m\n\u001b[1;32m    394\u001b[0m         create_graph\u001b[39m=\u001b[39mcreate_graph,\n\u001b[1;32m    395\u001b[0m         inputs\u001b[39m=\u001b[39minputs)\n\u001b[0;32m--> 396\u001b[0m torch\u001b[39m.\u001b[39;49mautograd\u001b[39m.\u001b[39;49mbackward(\u001b[39mself\u001b[39;49m, gradient, retain_graph, create_graph, inputs\u001b[39m=\u001b[39;49minputs)\n",
      "File \u001b[0;32m~/Documents/Developing/Repos/Deep-Learning/deep-learning-env/lib/python3.9/site-packages/torch/autograd/__init__.py:173\u001b[0m, in \u001b[0;36mbackward\u001b[0;34m(tensors, grad_tensors, retain_graph, create_graph, grad_variables, inputs)\u001b[0m\n\u001b[1;32m    168\u001b[0m     retain_graph \u001b[39m=\u001b[39m create_graph\n\u001b[1;32m    170\u001b[0m \u001b[39m# The reason we repeat same the comment below is that\u001b[39;00m\n\u001b[1;32m    171\u001b[0m \u001b[39m# some Python versions print out the first line of a multi-line function\u001b[39;00m\n\u001b[1;32m    172\u001b[0m \u001b[39m# calls in the traceback and some print out the last line\u001b[39;00m\n\u001b[0;32m--> 173\u001b[0m Variable\u001b[39m.\u001b[39;49m_execution_engine\u001b[39m.\u001b[39;49mrun_backward(  \u001b[39m# Calls into the C++ engine to run the backward pass\u001b[39;49;00m\n\u001b[1;32m    174\u001b[0m     tensors, grad_tensors_, retain_graph, create_graph, inputs,\n\u001b[1;32m    175\u001b[0m     allow_unreachable\u001b[39m=\u001b[39;49m\u001b[39mTrue\u001b[39;49;00m, accumulate_grad\u001b[39m=\u001b[39;49m\u001b[39mTrue\u001b[39;49;00m)\n",
      "\u001b[0;31mKeyboardInterrupt\u001b[0m: "
     ]
    }
   ],
   "source": [
    "train(model, optimizer, dataloader, epochs=50, verbose=1)"
   ]
  },
  {
   "cell_type": "code",
   "execution_count": null,
   "metadata": {},
   "outputs": [],
   "source": [
    "token = 15\n",
    "source = np.arange(token, token + maxlen)\n",
    "print(source)\n",
    "predict(model, source, sos, eos, maxlen)"
   ]
  }
 ],
 "metadata": {
  "kernelspec": {
   "display_name": "Python 3.9.7 ('deep-learning-env': venv)",
   "language": "python",
   "name": "python3"
  },
  "language_info": {
   "codemirror_mode": {
    "name": "ipython",
    "version": 3
   },
   "file_extension": ".py",
   "mimetype": "text/x-python",
   "name": "python",
   "nbconvert_exporter": "python",
   "pygments_lexer": "ipython3",
   "version": "3.9.7"
  },
  "orig_nbformat": 4,
  "vscode": {
   "interpreter": {
    "hash": "da2a551476f66aae3613481d49d8fd33a804395c218c6f6a2807839cdafe1d12"
   }
  }
 },
 "nbformat": 4,
 "nbformat_minor": 2
}
