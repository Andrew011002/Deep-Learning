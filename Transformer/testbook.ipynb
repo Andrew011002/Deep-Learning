{
 "cells": [
  {
   "cell_type": "code",
   "execution_count": 2,
   "metadata": {},
   "outputs": [],
   "source": [
    "import torch\n",
    "import torch.optim as optim\n",
    "from transformer import Transformer\n",
    "from tokenizer import Nerdimizer\n",
    "from utils import *\n",
    "from training import *"
   ]
  },
  {
   "cell_type": "code",
   "execution_count": 3,
   "metadata": {},
   "outputs": [],
   "source": [
    "tensors_1 = torch.rand((1000, 10))\n",
    "tensors_2 = torch.rand((1000, 10))\n",
    "tensorset = TensorDataset(tensors_1, tensors_2)\n",
    "dataloader = DataLoader(tensorset, batch_size=32, drop_last=False)"
   ]
  },
  {
   "cell_type": "code",
   "execution_count": 4,
   "metadata": {},
   "outputs": [],
   "source": [
    "model = Transformer(100, 10, 0, dm=256, nhead=8, layers=2, dff=512)\n",
    "optimizer = optim.Adam(model.parameters(), lr=1e-5)\n",
    "scheduler = optim.lr_scheduler.ReduceLROnPlateau(optimizer, factor=0.9)\n",
    "checkpoint = Checkpoint(model, optimizer, scheduler, 1, path=\"checkpoint\", overwrite=False)"
   ]
  },
  {
   "cell_type": "code",
   "execution_count": 5,
   "metadata": {},
   "outputs": [
    {
     "name": "stdout",
     "output_type": "stream",
     "text": [
      "Training Started\n",
      "Epoch 1 Started\n",
      "Checkpoint saved\n",
      "Epoch 1 Complete | Epoch Loss: nan\n",
      "Epoch 2 Started\n",
      "Checkpoint saved\n",
      "Epoch 2 Complete | Epoch Loss: nan\n",
      "Epoch 3 Started\n",
      "Checkpoint saved\n",
      "Epoch 3 Complete | Epoch Loss: nan\n",
      "Training Complete | Training Loss: nan\n"
     ]
    },
    {
     "data": {
      "text/plain": [
       "nan"
      ]
     },
     "execution_count": 5,
     "metadata": {},
     "output_type": "execute_result"
    }
   ],
   "source": [
    "train(dataloader, model, optimizer, scheduler, checkpoint, epochs=3, warmups=0)"
   ]
  },
  {
   "cell_type": "code",
   "execution_count": 6,
   "metadata": {},
   "outputs": [
    {
     "ename": "SyntaxError",
     "evalue": "invalid syntax (3960877471.py, line 2)",
     "output_type": "error",
     "traceback": [
      "\u001b[0;36m  Cell \u001b[0;32mIn[6], line 2\u001b[0;36m\u001b[0m\n\u001b[0;31m    checkpoint.load_checkpoint(tag=)\u001b[0m\n\u001b[0m                                   ^\u001b[0m\n\u001b[0;31mSyntaxError\u001b[0m\u001b[0;31m:\u001b[0m invalid syntax\n"
     ]
    }
   ],
   "source": [
    "checkpoint = Checkpoint(model, optimizer, scheduler, 1000, path=\"checkpoint\", overwrite=False)\n",
    "checkpoint.load_checkpoint(tag=\"-1\")"
   ]
  },
  {
   "cell_type": "code",
   "execution_count": 7,
   "metadata": {},
   "outputs": [
    {
     "name": "stdout",
     "output_type": "stream",
     "text": [
      "Training continued\n",
      "Epoch 4 Started\n",
      "Checkpoint saved\n",
      "Epoch 4 Complete | Epoch Loss: nan\n",
      "Epoch 5 Started\n",
      "Checkpoint saved\n",
      "Epoch 5 Complete | Epoch Loss: nan\n",
      "Epoch 6 Started\n",
      "Checkpoint saved\n",
      "Epoch 6 Complete | Epoch Loss: nan\n",
      "Epoch 7 Started\n",
      "Checkpoint saved\n",
      "Epoch 7 Complete | Epoch Loss: nan\n",
      "Epoch 8 Started\n",
      "Checkpoint saved\n",
      "Epoch 8 Complete | Epoch Loss: nan\n",
      "Epoch 9 Started\n",
      "Checkpoint saved\n",
      "Epoch 9 Complete | Epoch Loss: nan\n",
      "Epoch 10 Started\n",
      "Checkpoint saved\n",
      "Epoch 10 Complete | Epoch Loss: nan\n",
      "Training Complete | Training Loss: nan\n"
     ]
    },
    {
     "data": {
      "text/plain": [
       "nan"
      ]
     },
     "execution_count": 7,
     "metadata": {},
     "output_type": "execute_result"
    }
   ],
   "source": [
    "retrain(dataloader, checkpoint, 10, 0)"
   ]
  }
 ],
 "metadata": {
  "kernelspec": {
   "display_name": "deep-learning-venv",
   "language": "python",
   "name": "python3"
  },
  "language_info": {
   "codemirror_mode": {
    "name": "ipython",
    "version": 3
   },
   "file_extension": ".py",
   "mimetype": "text/x-python",
   "name": "python",
   "nbconvert_exporter": "python",
   "pygments_lexer": "ipython3",
   "version": "3.10.1"
  },
  "orig_nbformat": 4,
  "vscode": {
   "interpreter": {
    "hash": "cdd6e1c2b78b644f0d9d9d71785509219b94538d762b98250c0a1db53509cbf1"
   }
  }
 },
 "nbformat": 4,
 "nbformat_minor": 2
}
